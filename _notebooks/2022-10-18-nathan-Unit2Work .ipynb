{
 "cells": [
  {
   "cell_type": "markdown",
   "metadata": {},
   "source": [
    "# Lesson 2 Work\n",
    "> FRQ HW Assignment"
   ]
  },
  {
   "cell_type": "markdown",
   "metadata": {},
   "source": [
    "## Quiz\n",
    "Static Initialization Blocks are mainly used to initialize static fields of a class."
   ]
  },
  {
   "cell_type": "code",
   "execution_count": null,
   "metadata": {},
   "outputs": [],
   "source": [
    "// FRQ 1a\n",
    "\n",
    "public int scoreGuess(String guess)\n",
    "{\n",
    "    int count = 0;\n",
    "    for (int i = 0; i <= secret.length() - guess.length(); i++)\n",
    "    {\n",
    "        if (secret.substring(i, i + guess.length()).equals(guess))\n",
    "        {\n",
    "            count++;\n",
    "        }\n",
    "    }\n",
    "    return count * guess.length();\n",
    "}"
   ]
  },
  {
   "cell_type": "code",
   "execution_count": null,
   "metadata": {},
   "outputs": [],
   "source": [
    "// FRQ 1b\n",
    "\n",
    "public String findBetterGuess(String guess1, String guess2)\n",
    "{\n",
    "    if (scoreGuess(guess1) > scoreGuess(guess2))\n",
    "    {\n",
    "        return guess1;\n",
    "    }\n",
    "    if (scoreGuess(guess2) > scoreGuess(guess1))\n",
    "    {\n",
    "        return guess2;\n",
    "    }\n",
    "    if (guess1.compareTo(guess2) > 0)\n",
    "    {\n",
    "        return guess1;\n",
    "    }\n",
    "    return guess2;\n",
    "}"
   ]
  }
 ],
 "metadata": {
  "kernelspec": {
   "display_name": "Java",
   "language": "java",
   "name": "java"
  },
  "language_info": {
   "name": "java",
   "version": "3.10.4"
  },
  "orig_nbformat": 4,
  "vscode": {
   "interpreter": {
    "hash": "6ef0e01c7b70a41bffb23df0700e32d35958c8f3167b69c3a7c24cc73cf6bbbd"
   }
  }
 },
 "nbformat": 4,
 "nbformat_minor": 2
}
