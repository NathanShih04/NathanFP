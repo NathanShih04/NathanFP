{
 "cells": [
  {
   "cell_type": "markdown",
   "metadata": {},
   "source": [
    "# Lesson 2 Work\n",
    "> FRQ HW Assignment"
   ]
  },
  {
   "cell_type": "markdown",
   "metadata": {},
   "source": [
    "### Learnings\n",
    "\n",
    "- Static Initialization Blocks are mainly used to initialize static fields of a class.\n",
    "- Objects are instances within a class\n",
    "- Methods: certain set of code that runs a specific task\n",
    "- Non static methods are dot operators\n",
    "- Void methods don't return values, hence void\n",
    "- Strings are created with String class constructor\n",
    "- Wrapper class: integer and double class are part of java.lang"
   ]
  },
  {
   "cell_type": "markdown",
   "metadata": {},
   "source": [
    "#### Concatenation\n",
    "- Combines strings together\n",
    "- Must be string to string"
   ]
  },
  {
   "cell_type": "code",
   "execution_count": 1,
   "metadata": {
    "vscode": {
     "languageId": "java"
    }
   },
   "outputs": [
    {
     "name": "stdout",
     "output_type": "stream",
     "text": [
      "I like turtles a lot!\n"
     ]
    }
   ],
   "source": [
    "String a = \"I like\";\n",
    "String b = \" turtles\";\n",
    "System.out.println(a + b + \" a lot!\");"
   ]
  },
  {
   "cell_type": "markdown",
   "metadata": {},
   "source": [
    "#### Math Class\n",
    "- Can do mathematical operations such as square root and power\n",
    "- Random num generator"
   ]
  },
  {
   "cell_type": "code",
   "execution_count": 4,
   "metadata": {
    "vscode": {
     "languageId": "java"
    }
   },
   "outputs": [
    {
     "data": {
      "text/plain": [
       "4"
      ]
     },
     "execution_count": 4,
     "metadata": {},
     "output_type": "execute_result"
    }
   ],
   "source": [
    "int a = 100;\n",
    "int b = 23;\n",
    "// Absolute value\n",
    "Math.abs(a/b);"
   ]
  },
  {
   "cell_type": "markdown",
   "metadata": {},
   "source": [
    "#### Comparing numbers/strings/objects\n",
    "- Can check if numbers are equal using \"==\" or \"!=\"\n",
    "- .equals() used for strings"
   ]
  },
  {
   "cell_type": "code",
   "execution_count": 2,
   "metadata": {
    "vscode": {
     "languageId": "java"
    }
   },
   "outputs": [
    {
     "name": "stdout",
     "output_type": "stream",
     "text": [
      "true\n",
      "false\n",
      "false\n",
      "false\n",
      "false\n",
      "true\n"
     ]
    }
   ],
   "source": [
    "int a = 4;\n",
    "int b = 4;\n",
    "int c = 5;\n",
    "\n",
    "// same\n",
    "System.out.println(a == b);\n",
    "\n",
    "// dif\n",
    "System.out.println(a == c);\n",
    "\n",
    "// does not equal\n",
    "System.out.println(a != b);\n",
    "\n",
    "String j = new String(\"wow\");\n",
    "String l = new String(\"wow\");\n",
    "String k = new String(\"not wow\");\n",
    "\n",
    "// Comparing strings\n",
    "System.out.println(j == l);\n",
    "System.out.println(j == k);\n",
    "\n",
    "// Using .equals()\n",
    "System.out.println(j.equals(l));"
   ]
  },
  {
   "cell_type": "code",
   "execution_count": null,
   "metadata": {
    "vscode": {
     "languageId": "java"
    }
   },
   "outputs": [],
   "source": [
    "// FRQ 1a\n",
    "\n",
    "public int scoreGuess(String guess)\n",
    "{\n",
    "    int count = 0;\n",
    "    for (int i = 0; i <= secret.length() - guess.length(); i++)\n",
    "    {\n",
    "        if (secret.substring(i, i + guess.length()).equals(guess))\n",
    "        {\n",
    "            count++;\n",
    "        }\n",
    "    }\n",
    "    return count * guess.length();\n",
    "}"
   ]
  },
  {
   "cell_type": "code",
   "execution_count": null,
   "metadata": {
    "vscode": {
     "languageId": "java"
    }
   },
   "outputs": [],
   "source": [
    "// FRQ 1b\n",
    "\n",
    "public String findBetterGuess(String guess1, String guess2)\n",
    "{\n",
    "    if (scoreGuess(guess1) > scoreGuess(guess2))\n",
    "    {\n",
    "        return guess1;\n",
    "    }\n",
    "    if (scoreGuess(guess2) > scoreGuess(guess1))\n",
    "    {\n",
    "        return guess2;\n",
    "    }\n",
    "    if (guess1.compareTo(guess2) > 0)\n",
    "    {\n",
    "        return guess1;\n",
    "    }\n",
    "    return guess2;\n",
    "}"
   ]
  }
 ],
 "metadata": {
  "kernelspec": {
   "display_name": "Java",
   "language": "java",
   "name": "java"
  },
  "language_info": {
   "codemirror_mode": "java",
   "file_extension": ".jshell",
   "mimetype": "text/x-java-source",
   "name": "Java",
   "pygments_lexer": "java",
   "version": "17.0.5+8-Ubuntu-2ubuntu120.04"
  },
  "orig_nbformat": 4,
  "vscode": {
   "interpreter": {
    "hash": "6ef0e01c7b70a41bffb23df0700e32d35958c8f3167b69c3a7c24cc73cf6bbbd"
   }
  }
 },
 "nbformat": 4,
 "nbformat_minor": 2
}
