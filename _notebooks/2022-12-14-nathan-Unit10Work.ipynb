{
 "cells": [
  {
   "attachments": {},
   "cell_type": "markdown",
   "metadata": {},
   "source": [
    "# Unit 10\n",
    "> Recursion"
   ]
  },
  {
   "attachments": {},
   "cell_type": "markdown",
   "metadata": {},
   "source": [
    "### Learnings\n",
    "- Can be used in situations where loops are used\n",
    "- Must call itself and have a base case"
   ]
  },
  {
   "attachments": {},
   "cell_type": "markdown",
   "metadata": {},
   "source": [
    "#### Big O Notation\n",
    "- Describes time complexity for code to run"
   ]
  },
  {
   "cell_type": "code",
   "execution_count": 1,
   "metadata": {},
   "outputs": [
    {
     "name": "stdout",
     "output_type": "stream",
     "text": [
      "120\n"
     ]
    }
   ],
   "source": [
    "// O(n) time since it must go through n iterations to calculate factorial\n",
    "public int factorial (int n) {\n",
    "    if (n == 0 || n == 1) {\n",
    "      return 1;\n",
    "    }\n",
    "    return n * factorial(n-1);\n",
    "  }\n",
    "  \n",
    "  System.out.println(factorial(5));"
   ]
  }
 ],
 "metadata": {
  "kernelspec": {
   "display_name": "Java",
   "language": "java",
   "name": "java"
  },
  "language_info": {
   "codemirror_mode": "java",
   "file_extension": ".jshell",
   "mimetype": "text/x-java-source",
   "name": "java",
   "pygments_lexer": "java",
   "version": "17.0.5+8-Ubuntu-2ubuntu120.04"
  },
  "orig_nbformat": 4
 },
 "nbformat": 4,
 "nbformat_minor": 2
}
