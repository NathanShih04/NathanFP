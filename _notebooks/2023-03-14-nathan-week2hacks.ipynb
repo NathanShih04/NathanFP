{
 "cells": [
  {
   "cell_type": "code",
   "execution_count": 1,
   "metadata": {},
   "outputs": [],
   "source": [
    "public class SelectionSortExample {  \n",
    "    public static void selectionSort(int[] arr){  \n",
    "        for (int i = 0; i < arr.length - 1; i++)  \n",
    "        {  \n",
    "            int index = i;  \n",
    "            for (int j = i + 1; j < arr.length; j++){  \n",
    "                if (arr[j] < arr[index]){  \n",
    "                    index = j;//searching for lowest index  \n",
    "                }  \n",
    "            }  \n",
    "            int smallerNumber = arr[index];   \n",
    "            arr[index] = arr[i];  \n",
    "            arr[i] = smallerNumber;  \n",
    "        }  \n",
    "    }  \n",
    "       \n",
    "    public static void main(String a[]){  \n",
    "        int[] arr1 = {9,14,3,2,43,11,58,22};  \n",
    "        System.out.println(\"Before Selection Sort\");  \n",
    "        for(int i:arr1){  \n",
    "            System.out.print(i+\" \");  \n",
    "        }  \n",
    "          \n",
    "        selectionSort(arr1);//sorting array using selection sort  \n",
    "         \n",
    "        System.out.println(\"After Selection Sort\");  \n",
    "        for(int i:arr1){  \n",
    "            System.out.print(i+\" \");  \n",
    "        }  \n",
    "    }  \n",
    "}  "
   ]
  }
 ],
 "metadata": {
  "kernelspec": {
   "display_name": "Java",
   "language": "java",
   "name": "java"
  },
  "language_info": {
   "codemirror_mode": "java",
   "file_extension": ".jshell",
   "mimetype": "text/x-java-source",
   "name": "java",
   "pygments_lexer": "java",
   "version": "17.0.5+8-Ubuntu-2ubuntu120.04"
  },
  "orig_nbformat": 4
 },
 "nbformat": 4,
 "nbformat_minor": 2
}
