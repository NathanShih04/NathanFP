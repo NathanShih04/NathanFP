{
 "cells": [
  {
   "attachments": {},
   "cell_type": "markdown",
   "metadata": {},
   "source": [
    "# 66 Question MC Review\n",
    "> Corrections and improvements"
   ]
  },
  {
   "attachments": {},
   "cell_type": "markdown",
   "metadata": {},
   "source": [
    "## Score: 51/66 (77%)\n",
    "![image](https://user-images.githubusercontent.com/88810038/214117960-c2652081-fd28-4d83-9d3f-4872c246eb1e.png)\n",
    "\n",
    "The test took me around an hour and 15 minutes to complete in multiple sessions and there were definitely concepts that I completely forgot how to do. I tried to take the test all on my own but had to reference google for a few of them. Some of these weaknesses I believe I can iron out and become better at once I get the concept down with more practice. \n",
    "\n",
    "Some of the weak areas include: \n",
    "- Demorgan's Law\n",
    "- Compile Errors\n",
    "- Enhanced For Loop"
   ]
  },
  {
   "attachments": {},
   "cell_type": "markdown",
   "metadata": {},
   "source": [
    "### Q4\n",
    "\n",
    "![image](https://user-images.githubusercontent.com/88810038/214118149-82c98c3c-6587-4259-935c-fcba59c04ec1.png)\n",
    "The correct answer should have been e because based on DeMorgan's law, the not should be distributed as well as change the && to ||."
   ]
  },
  {
   "attachments": {},
   "cell_type": "markdown",
   "metadata": {},
   "source": [
    "### Q7\n",
    "\n",
    "![image](https://user-images.githubusercontent.com/88810038/214118309-b320a671-2dbf-4b44-bcff-fe1f5dce82e2.png)\n",
    "The correct answer should have been d, I and III because al is initialized in a completely different class so does not exist in class B. Therefore, III would also cause a compile time error."
   ]
  },
  {
   "attachments": {},
   "cell_type": "markdown",
   "metadata": {},
   "source": [
    "### Q12\n",
    "\n",
    "![image](https://user-images.githubusercontent.com/88810038/214118433-51009250-f55e-47f1-9e11-8cef8dd5c7e8.png)\n",
    "The correct answer should have been a, because the || (or sign) will have been distributed but the && will go in between the two statements. Therefore it would be a, not b."
   ]
  },
  {
   "attachments": {},
   "cell_type": "markdown",
   "metadata": {},
   "source": [
    "### Q14\n",
    "\n",
    "![image](https://user-images.githubusercontent.com/88810038/214118538-ca8c39e1-b026-4183-a2a4-aa99ccac3e5a.png)\n",
    "This is another demorgan's law question that I got wrong. The answer should have been b, not a because the opposite of b>7 would be b<=7 and not just <. "
   ]
  },
  {
   "attachments": {},
   "cell_type": "markdown",
   "metadata": {},
   "source": [
    "### Q16\n",
    "\n",
    "![image](https://user-images.githubusercontent.com/88810038/214118642-8931a629-5917-4777-9fb9-945d8ec80362.png)\n",
    "The problem I had with this question was that I was confused on how the enhanced for loop works (for each loop). After looking back on it and seeing how it iterates, I now see how it should assign a one-dimensional array of int values, single row of two-dimensional array and not a row of col since col is not a two-dimensional array."
   ]
  },
  {
   "attachments": {},
   "cell_type": "markdown",
   "metadata": {},
   "source": [
    "### Q19\n",
    "\n",
    "![image](https://user-images.githubusercontent.com/88810038/214118792-2d535ffc-3a46-4e26-b98c-0831d486b791.png)\n",
    "This is another demorgan's law question that I got wrong and after seeing it, I now know that the answer should have been a since the not distributes inside of the parenthesis first and then the outside ! distributes into all of the terms inside the parenthesis making it an || and not an &&."
   ]
  },
  {
   "attachments": {},
   "cell_type": "markdown",
   "metadata": {},
   "source": [
    "### Q21\n",
    "\n",
    "![image](https://user-images.githubusercontent.com/88810038/214118933-722e2174-628e-4424-8e42-770b04e4ed92.png)\n",
    "This is a compile error question that I got wrong and the anwer should have been e, not b since the reset method returns void which means that it can't return any value. The new password can be the same as the old password and it won't throw a compile error. "
   ]
  },
  {
   "attachments": {},
   "cell_type": "markdown",
   "metadata": {},
   "source": [
    "### Q25\n",
    "\n",
    "![image](https://user-images.githubusercontent.com/88810038/214119059-39089168-6909-4f38-8f76-6c87db52b796.png)\n",
    "The answer should have been b, not c because in this compile error question the method updateItems must have a return type and there is nothing there. It should be void if it isn't returning anything so the answer should be b. I believe I completely overlooked the method creation so I got this wrong."
   ]
  },
  {
   "attachments": {},
   "cell_type": "markdown",
   "metadata": {},
   "source": [
    "### Q32\n",
    "\n",
    "![image](https://user-images.githubusercontent.com/88810038/214119165-49aa6e28-5a57-4b91-930e-16b60cd6a3bf.png)\n",
    "The answer should have been e, not d. This is because we want lenCount=0 to be put inside of the else statement and not inside of the if statement inside of the else statement. "
   ]
  },
  {
   "attachments": {},
   "cell_type": "markdown",
   "metadata": {},
   "source": [
    "### Q33\n",
    "\n",
    "![image](https://user-images.githubusercontent.com/88810038/214119380-635e10bf-76d8-4ef7-b4af-a237e807d84d.png)\n",
    "The answer should be c, not e since maxVal is the largest value in arr so it will never be updated and will always be 0. Therefore it could be initialized to the first element in arr to fix this problem."
   ]
  },
  {
   "attachments": {},
   "cell_type": "markdown",
   "metadata": {},
   "source": [
    "### Q34\n",
    "\n",
    "![image](https://user-images.githubusercontent.com/88810038/214119473-fd0c709d-0eb6-4958-8579-66b12c0b10af.png)\n",
    "This is an equivolence question and the answer should have been d, instead of a because we want sum to equal sum+2*(element of arr at k) and not just k. This will yield an equivalent result and I think that I simply overlooked the big difference that k and arr at index k can have."
   ]
  },
  {
   "attachments": {},
   "cell_type": "markdown",
   "metadata": {},
   "source": [
    "### Q36\n",
    "\n",
    "![image](https://user-images.githubusercontent.com/88810038/214119567-500b2da6-6133-4c37-b8d1-df11bb703f13.png)\n",
    "This is another compile time error question that I got wrong and the answer should be Line 4 only and not Line 1. I'm not sure what the GridWorld case study is referring to so I wasn't really sure how I would do this question. As a result I guessed and I'm still not sure what this GridWorld case study is."
   ]
  },
  {
   "attachments": {},
   "cell_type": "markdown",
   "metadata": {},
   "source": [
    "### Q39\n",
    "\n",
    "![image](https://user-images.githubusercontent.com/88810038/214119648-05364803-9362-429a-b620-afab440a2a19.png)\n",
    "The answer should have been a, not d since 1900 is not a leap year but it is divisible by 4. However, it is divisible by 100 but not 400 so therefore it is not a leapyear and will return incorrectly."
   ]
  },
  {
   "attachments": {},
   "cell_type": "markdown",
   "metadata": {},
   "source": [
    "### Q41\n",
    "\n",
    "![image](https://user-images.githubusercontent.com/88810038/214119724-d7be66a6-3880-427c-af80-60c1fba6388d.png)\n",
    "The answer should be b, not d since the method call returns 12 and since c is true, the body of the third if statement runs and the value of 7+4=11 is returned."
   ]
  },
  {
   "attachments": {},
   "cell_type": "markdown",
   "metadata": {},
   "source": [
    "### Q56\n",
    "\n",
    "![image](https://user-images.githubusercontent.com/88810038/214119822-10a9a48f-a106-4d98-bec5-f974279b73bd.png)\n",
    "The answer should be e, not b since we don't want k to add one each time the while loop executes. We only want k++ to occure if the if statement is not satisfied. Therefore, we need an else statement before the k++."
   ]
  }
 ],
 "metadata": {
  "kernelspec": {
   "display_name": "Java",
   "language": "java",
   "name": "java"
  },
  "language_info": {
   "name": "java",
   "version": "3.8.10 (default, Jun 22 2022, 20:18:18) \n[GCC 9.4.0]"
  },
  "orig_nbformat": 4,
  "vscode": {
   "interpreter": {
    "hash": "916dbcbb3f70747c44a77c7bcd40155683ae19c65e1c03b4aa3499c5328201f1"
   }
  }
 },
 "nbformat": 4,
 "nbformat_minor": 2
}
