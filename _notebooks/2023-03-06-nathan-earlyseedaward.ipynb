{
 "cells": [
  {
   "attachments": {},
   "cell_type": "markdown",
   "metadata": {},
   "source": [
    "# Binary Addition and Subtraction"
   ]
  },
  {
   "cell_type": "code",
   "execution_count": 3,
   "metadata": {
    "vscode": {
     "languageId": "java"
    }
   },
   "outputs": [],
   "source": [
    "static String add(double a, double b) {\n",
    "    System.out.println(a + \"first val :\" + b);\n",
    "    int a1 = (int) a;\n",
    "    int b1 = (int) b;\n",
    "    String s1 = Integer.toString(a1);\n",
    "    String s2 = Integer.toString(b1);\n",
    "    int number0 = Integer.parseInt(s1, 2);\n",
    "    int number1 = Integer.parseInt(s2, 2);\n",
    "\n",
    "    int sum = number0 + number1;\n",
    "    String s3 = Integer.toBinaryString(sum);\n",
    "\n",
    "    return s3;\n",
    "}"
   ]
  },
  {
   "cell_type": "code",
   "execution_count": 6,
   "metadata": {
    "vscode": {
     "languageId": "java"
    }
   },
   "outputs": [
    {
     "name": "stdout",
     "output_type": "stream",
     "text": [
      "1.0first val :1.0\n",
      "10\n"
     ]
    }
   ],
   "source": [
    "System.out.println(add(1,1));"
   ]
  }
 ],
 "metadata": {
  "kernelspec": {
   "display_name": "Java",
   "language": "java",
   "name": "java"
  },
  "language_info": {
   "codemirror_mode": "java",
   "file_extension": ".jshell",
   "mimetype": "text/x-java-source",
   "name": "Java",
   "pygments_lexer": "java",
   "version": "17.0.5+8-Ubuntu-2ubuntu120.04"
  },
  "orig_nbformat": 4
 },
 "nbformat": 4,
 "nbformat_minor": 2
}
