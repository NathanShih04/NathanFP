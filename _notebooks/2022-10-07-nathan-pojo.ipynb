{
 "cells": [
  {
   "cell_type": "markdown",
   "metadata": {},
   "source": [
    "# POJO \n",
    "> Pojo with annotations and without Lambok"
   ]
  },
  {
   "cell_type": "markdown",
   "metadata": {},
   "source": [
    "POJO with annotations"
   ]
  },
  {
   "cell_type": "code",
   "execution_count": null,
   "metadata": {},
   "outputs": [],
   "source": [
    "import lombok.AllArgsConstructor;\n",
    "import lombok.Data;\n",
    "import lombok.NoArgsConstructor;\n",
    "\n",
    "import javax.persistence.*;\n",
    "\n",
    "@Data  // Annotations to simplify writing code (ie constructors, setters)\n",
    "@NoArgsConstructor\n",
    "@AllArgsConstructor\n",
    "@Entity // Annotation to simplify creating an entity, which is a lightweight persistence domain object. Typically, an entity represents a table in a relational database, and each entity instance corresponds to a row in that table.\n",
    "public class CarBrands {\n",
    "    @Id\n",
    "    @GeneratedValue(strategy = GenerationType.AUTO)\n",
    "    private Long id;  // Unique identifier\n",
    "\n",
    "    @Column(unique=true)\n",
    "    private String brand;  // The Joke\n",
    "\n",
    "    private int like;  // Store joke likes\n",
    "    private int dislike;  // Store joke jeers\n",
    "}"
   ]
  },
  {
   "cell_type": "markdown",
   "metadata": {},
   "source": [
    "POJO without LOMBOK"
   ]
  },
  {
   "cell_type": "code",
   "execution_count": null,
   "metadata": {},
   "outputs": [],
   "source": [
    "import javax.persistence.*;\n",
    "\n",
    "@Entity // Annotation to simplify creating an entity, which is a lightweight persistence domain object. Typically, an entity represents a table in a relational database, and each entity instance corresponds to a row in that table.\n",
    "public class CarBrands {\n",
    "\n",
    "    public CarBrands() {\n",
    "        this.id = null;\n",
    "        this.brand = \"\";\n",
    "        this.like = 0;\n",
    "        this.dislike = 0;\n",
    "    }\n",
    "\n",
    "    public CarBrands(Long ID, String Brand, int Like, int Dislike) {\n",
    "        this.id = null;\n",
    "        this.brand = Brand;\n",
    "        this.like = Like;\n",
    "        this.dislike = Dislike;\n",
    "    }\n",
    "\n",
    "    @Id\n",
    "    @GeneratedValue(strategy = GenerationType.AUTO)\n",
    "    private Long id;  // Unique identifier\n",
    "\n",
    "    @Column(unique=true)\n",
    "    private String brand;  // The Joke\n",
    "\n",
    "    private int like;  // Store joke likes\n",
    "    private int dislike;  // Store joke jeers\n",
    "\n",
    "    // Only have a getter for ID\n",
    "    // Don't need to set since it auto generates\n",
    "    public Long getID() {\n",
    "        return this.id;\n",
    "    }\n",
    "\n",
    "    public String getBrand() {\n",
    "        return this.brand;\n",
    "    }\n",
    "\n",
    "    public void setBrand(String Brand) {\n",
    "        this.brand = Brand;\n",
    "    } \n",
    "\n",
    "    public int getLike() {\n",
    "        return this.like;\n",
    "    }\n",
    "\n",
    "    public void setLike(int Like) {\n",
    "        this.like = Like;\n",
    "    }\n",
    "\n",
    "    public int getDislike() {\n",
    "        return this.dislike;\n",
    "    }\n",
    "\n",
    "    public void setDislike(int Dislike) {\n",
    "        this.dislike = Dislike;\n",
    "    }\n",
    "}"
   ]
  }
 ],
 "metadata": {
  "kernelspec": {
   "display_name": "Java",
   "language": "java",
   "name": "java"
  },
  "language_info": {
   "name": "java"
  },
  "orig_nbformat": 4
 },
 "nbformat": 4,
 "nbformat_minor": 2
}
