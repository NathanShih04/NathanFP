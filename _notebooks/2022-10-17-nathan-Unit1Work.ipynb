{
 "cells": [
  {
   "cell_type": "markdown",
   "metadata": {},
   "source": [
    "# Unit 1 Work\n",
    "> Java grade calc and learnings"
   ]
  },
  {
   "cell_type": "markdown",
   "metadata": {},
   "source": [
    "### Learnings\n",
    "\n",
    "- Boolean, char, int, float, doyble are all primitive data types.\n",
    "- String, Array, and some others are non-primitive data types\n",
    "- Operators are +-*/%\n",
    "- Compound operators include +=, -=, *=, /=, %=\n",
    "- Increment/decrement ++ and --"
   ]
  },
  {
   "cell_type": "markdown",
   "metadata": {},
   "source": [
    "#### Casting (division/rounding)\n",
    "\n",
    "- Must cast to double before dividing numbers\n",
    "- Once casted, number will be rounded down/truncated"
   ]
  },
  {
   "cell_type": "code",
   "execution_count": 2,
   "metadata": {},
   "outputs": [
    {
     "name": "stdout",
     "output_type": "stream",
     "text": [
      "3\n",
      "3.5\n",
      "6.7\n",
      "6\n"
     ]
    }
   ],
   "source": [
    "int first = 7;\n",
    "int second = 2;\n",
    "// no casting (rounds down to 3)\n",
    "System.out.println(first/second);\n",
    "\n",
    "// With casting to double (gives correct answer of 3.5)\n",
    "System.out.println((double)first/(double)second);\n",
    "\n",
    "double third = 6.7;\n",
    "\n",
    "// Without casting (shows full decimal)\n",
    "System.out.println(third);\n",
    "\n",
    "// WIth casting to integer (rounds down to 6)\n",
    "System.out.println((int)third);"
   ]
  },
  {
   "cell_type": "markdown",
   "metadata": {},
   "source": [
    "#### Wrapper Classes\n",
    "\n",
    "- Used to convert primitives in a class\n",
    "- Needed for types such as ArrayLists"
   ]
  },
  {
   "cell_type": "code",
   "execution_count": 4,
   "metadata": {},
   "outputs": [
    {
     "name": "stdout",
     "output_type": "stream",
     "text": [
      "[6, 9]\n"
     ]
    }
   ],
   "source": [
    "int a = 6;\n",
    "int b = 9;\n",
    "\n",
    "// Using \"Integer\" wrapper class\n",
    "ArrayList<Integer> list = new ArrayList<Integer>();\n",
    "\n",
    "// Creating \"Integer\" from int\n",
    "Integer a_wrap = new Integer(a);\n",
    "list.add(a_wrap);\n",
    "\n",
    "// Java automatically casting int to Integer\n",
    "list.add(b);\n",
    "\n",
    "// Both elements present\n",
    "System.out.println(list);"
   ]
  },
  {
   "cell_type": "markdown",
   "metadata": {},
   "source": [
    "### Grade Calc"
   ]
  },
  {
   "cell_type": "code",
   "execution_count": 2,
   "metadata": {},
   "outputs": [
    {
     "name": "stdout",
     "output_type": "stream",
     "text": [
      "Final is part of the test category? true or false\n",
      "What is your current grade?\n",
      "How much percent of your grade is the final?\n",
      "What is your desired grade?\n",
      "You need a 78.0 on the test.\n"
     ]
    }
   ],
   "source": [
    "import java.util.*;\n",
    "\n",
    "\n",
    "public class gradecalc {\n",
    "    \n",
    "    public static void main(String[] args) {\n",
    "        Scanner sc = new Scanner(System.in);\n",
    "        System.out.println(\"Final is part of the test category? true or false\");\n",
    "        boolean finalIsTest = sc.nextBoolean();\n",
    "        \n",
    "        if (finalIsTest) {\n",
    "            System.out.println(\"Current grade:\");\n",
    "            double grade = sc.nextDouble();\n",
    "            \n",
    "            System.out.println(\"What percent of your grade is the tests category?\");\n",
    "            int testsPercent = sc.nextInt();\n",
    "            \n",
    "            System.out.println(\"Your current grade (in tests category)?\");\n",
    "            double testsGrade = sc.nextDouble();\n",
    "            \n",
    "            System.out.println(\"Total points in tests category currently?\");\n",
    "            int testsPoints = sc.nextInt();\n",
    "            \n",
    "            System.out.println(\"Amount of points:\");\n",
    "            int finalPoints = sc.nextInt();\n",
    "            \n",
    "            System.out.println(\"The grade you want:\");\n",
    "            double finalgrade = sc.nextDouble();\n",
    "            \n",
    "            double percentReq = finalgrade - (grade - testsGrade * testsPercent/100.0);\n",
    "            double testPointsNeeded = (percentReq/testsPercent) * (testsPoints + finalPoints);\n",
    "            double finalPointsNeeded = testPointsNeeded - testsPoints;\n",
    "            System.out.println(\"You need a \" + finalPointsNeeded + \" on the final.\");\n",
    "            \n",
    "        } else {\n",
    "            System.out.println(\"What is your current grade?\");\n",
    "            double grade = sc.nextDouble();\n",
    "            System.out.println(\"How much percent of your grade is the final?\");\n",
    "            int finalPercent = sc.nextInt();\n",
    "            System.out.println(\"What is your desired grade?\");\n",
    "            double target = sc.nextDouble();\n",
    "            \n",
    "            double percentReq = target - (grade/100.0)*(100.0-finalPercent);\n",
    "            double gradeNeeded = 100.0 * (percentReq/finalPercent);\n",
    "            System.out.println(\"You need a \" + gradeNeeded + \" on the test.\");\n",
    "        }\n",
    "    }\n",
    "}\n",
    "gradecalc.main(null);"
   ]
  }
 ],
 "metadata": {
  "kernelspec": {
   "display_name": "Java",
   "language": "java",
   "name": "java"
  },
  "language_info": {
   "codemirror_mode": "java",
   "file_extension": ".jshell",
   "mimetype": "text/x-java-source",
   "name": "java",
   "pygments_lexer": "java",
   "version": "17.0.5+8-Ubuntu-2ubuntu120.04"
  },
  "orig_nbformat": 4,
  "vscode": {
   "interpreter": {
    "hash": "6ef0e01c7b70a41bffb23df0700e32d35958c8f3167b69c3a7c24cc73cf6bbbd"
   }
  }
 },
 "nbformat": 4,
 "nbformat_minor": 2
}
