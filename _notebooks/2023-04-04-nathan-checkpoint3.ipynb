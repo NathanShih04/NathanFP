{
 "cells": [
  {
   "attachments": {},
   "cell_type": "markdown",
   "metadata": {},
   "source": [
    "# Checkpoint 3\n",
    "> Sorts"
   ]
  },
  {
   "cell_type": "code",
   "execution_count": 8,
   "metadata": {},
   "outputs": [],
   "source": [
    "public class BubbleTort{\n",
    "    public void bubbleTort(int arr[]){\n",
    "        for (int i = 0; i < arr.length - 1; i++){\n",
    "            for (int j = 0; j < arr.length - i - 1; j++){\n",
    "                if (arr[j] > arr[j + 1]) {\n",
    "                    int temp = arr[j];\n",
    "                    arr[j] = arr[j + 1];\n",
    "                    arr[j + 1] = temp;\n",
    "                }\n",
    "            }\n",
    "        }\n",
    "    }\n",
    "    public void toString(int arr[]){\n",
    "        for(int i = 0; i < arr.length; i++){\n",
    "            System.out.print(arr[i] + \" \");\n",
    "        }\n",
    "        System.out.println();\n",
    "    }\n",
    "    public static void main(String[] args){\n",
    "        int[] Group1 = {6, 12, 23, 14, 4, 1};\n",
    "        BubbleTort RussianTortoises = new BubbleTort();\n",
    "        tortGroup.bubbleTort(ll);\n",
    "        tortGroup.toString(ll);\n",
    "    }\n",
    "}\n",
    "\n",
    "BubbleTort.main(null);"
   ]
  }
 ],
 "metadata": {
  "kernelspec": {
   "display_name": "Java",
   "language": "java",
   "name": "java"
  },
  "language_info": {
   "codemirror_mode": "java",
   "file_extension": ".jshell",
   "mimetype": "text/x-java-source",
   "name": "java",
   "pygments_lexer": "java",
   "version": "17.0.5+8-Ubuntu-2ubuntu120.04"
  },
  "orig_nbformat": 4
 },
 "nbformat": 4,
 "nbformat_minor": 2
}
