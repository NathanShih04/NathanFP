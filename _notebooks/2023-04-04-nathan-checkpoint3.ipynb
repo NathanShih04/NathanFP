{
 "cells": [
  {
   "attachments": {},
   "cell_type": "markdown",
   "metadata": {},
   "source": [
    "# Checkpoint 3\n",
    "> Sorts"
   ]
  },
  {
   "cell_type": "code",
   "execution_count": 1,
   "metadata": {
    "vscode": {
     "languageId": "java"
    }
   },
   "outputs": [
    {
     "ename": "UnresolvedReferenceException",
     "evalue": "Attempt to use definition snippet with unresolved references in Snippet:ClassKey(BubbleTort)#12-public class BubbleTort{\n    public void bubbleTort(int arr[]){\n        for (int i = 0; i < arr.length - 1; i++){\n            for (int j = 0; j < arr.length - i - 1; j++){\n                if (arr[j] > arr[j + 1]) {\n                    int temp = arr[j];\n                    arr[j] = arr[j + 1];\n                    arr[j + 1] = temp;\n                }\n            }\n        }\n    }\n    public void toString(int arr[]){\n        for(int i = 0; i < arr.length; i++){\n            System.out.print(arr[i] + \" \");\n        }\n        System.out.println();\n    }\n    public static void main(String[] args){\n        int[] Group1 = {6, 12, 23, 14, 4, 1};\n        BubbleTort RussianTortoises = new BubbleTort();\n        tortGroup.bubbleTort(ll);\n        tortGroup.toString(ll);\n    }\n}",
     "output_type": "error",
     "traceback": [
      "\u001b[1m\u001b[30m|   \u001b[1m\u001b[30mpublic class BubbleTort{\u001b[0m",
      "\u001b[1m\u001b[30m|   \u001b[1m\u001b[30m    public void bubbleTort(int arr[]){\u001b[0m",
      "\u001b[1m\u001b[30m|   \u001b[1m\u001b[30m        for (int i = 0; i < arr.length - 1; i++){\u001b[0m",
      "\u001b[1m\u001b[30m|   \u001b[1m\u001b[30m            for (int j = 0; j < arr.length - i - 1; j++){\u001b[0m",
      "\u001b[1m\u001b[30m|   \u001b[1m\u001b[30m                if (arr[j] > arr[j + 1]) {\u001b[0m",
      "\u001b[1m\u001b[30m|   \u001b[1m\u001b[30m                    int temp = arr[j];\u001b[0m",
      "\u001b[1m\u001b[30m|   \u001b[1m\u001b[30m                    arr[j] = arr[j + 1];\u001b[0m",
      "\u001b[1m\u001b[30m|   \u001b[1m\u001b[30m                    arr[j + 1] = temp;\u001b[0m",
      "\u001b[1m\u001b[30m|   \u001b[1m\u001b[30m                }\u001b[0m",
      "\u001b[1m\u001b[30m|   \u001b[1m\u001b[30m            }\u001b[0m",
      "\u001b[1m\u001b[30m|   \u001b[1m\u001b[30m        }\u001b[0m",
      "\u001b[1m\u001b[30m|   \u001b[1m\u001b[30m    }\u001b[0m",
      "\u001b[1m\u001b[30m|   \u001b[1m\u001b[30m    public void toString(int arr[]){\u001b[0m",
      "\u001b[1m\u001b[30m|   \u001b[1m\u001b[30m        for(int i = 0; i < arr.length; i++){\u001b[0m",
      "\u001b[1m\u001b[30m|   \u001b[1m\u001b[30m            System.out.print(arr[i] + \" \");\u001b[0m",
      "\u001b[1m\u001b[30m|   \u001b[1m\u001b[30m        }\u001b[0m",
      "\u001b[1m\u001b[30m|   \u001b[1m\u001b[30m        System.out.println();\u001b[0m",
      "\u001b[1m\u001b[30m|   \u001b[1m\u001b[30m    }\u001b[0m",
      "\u001b[1m\u001b[30m|   \u001b[1m\u001b[30m    public static void main(String[] args){\u001b[0m",
      "\u001b[1m\u001b[30m|   \u001b[1m\u001b[30m        int[] Group1 = {6, 12, 23, 14, 4, 1};\u001b[0m",
      "\u001b[1m\u001b[30m|   \u001b[1m\u001b[30m        BubbleTort RussianTortoises = new BubbleTort();\u001b[0m",
      "\u001b[1m\u001b[30m|   \u001b[1m\u001b[30m        tortGroup.bubbleTort(ll);\u001b[0m",
      "\u001b[1m\u001b[30m|   \u001b[1m\u001b[30m        tortGroup.toString(ll);\u001b[0m",
      "\u001b[1m\u001b[30m|   \u001b[1m\u001b[30m    }\u001b[0m",
      "\u001b[1m\u001b[30m|   \u001b[1m\u001b[30m}\u001b[0m",
      "\u001b[1m\u001b[31mUnresolved dependencies:\u001b[0m",
      "\u001b[1m\u001b[31m   - variable ll\u001b[0m",
      "\u001b[1m\u001b[31m   - variable tortGroup\u001b[0m"
     ]
    }
   ],
   "source": [
    "public class BubbleTort{\n",
    "    public void bubbleTort(int arr[]){\n",
    "        for (int i = 0; i < arr.length - 1; i++){\n",
    "            for (int j = 0; j < arr.length - i - 1; j++){\n",
    "                if (arr[j] > arr[j + 1]) {\n",
    "                    int temp = arr[j];\n",
    "                    arr[j] = arr[j + 1];\n",
    "                    arr[j + 1] = temp;\n",
    "                }\n",
    "            }\n",
    "        }\n",
    "    }\n",
    "    public void toString(int arr[]){\n",
    "        for(int i = 0; i < arr.length; i++){\n",
    "            System.out.print(arr[i] + \" \");\n",
    "        }\n",
    "        System.out.println();\n",
    "    }\n",
    "    public static void main(String[] args){\n",
    "        int[] Group1 = {6, 12, 23, 14, 4, 1};\n",
    "        BubbleTort RussianTortoises = new BubbleTort();\n",
    "        tortGroup.bubbleTort(Group1);\n",
    "        tortGroup.toString(Group1);\n",
    "    }\n",
    "}\n",
    "\n",
    "BubbleTort.main(null);"
   ]
  }
 ],
 "metadata": {
  "kernelspec": {
   "display_name": "Java",
   "language": "java",
   "name": "java"
  },
  "language_info": {
   "codemirror_mode": "java",
   "file_extension": ".jshell",
   "mimetype": "text/x-java-source",
   "name": "Java",
   "pygments_lexer": "java",
   "version": "17.0.5+8-Ubuntu-2ubuntu120.04"
  },
  "orig_nbformat": 4
 },
 "nbformat": 4,
 "nbformat_minor": 2
}
