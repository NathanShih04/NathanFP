{
 "cells": [
  {
   "attachments": {},
   "cell_type": "markdown",
   "metadata": {},
   "source": [
    "# Checkpoint 3\n",
    "> Sorts"
   ]
  },
  {
   "cell_type": "code",
   "execution_count": 28,
   "metadata": {
    "vscode": {
     "languageId": "java"
    }
   },
   "outputs": [],
   "source": [
    "import java.util.Random;\n",
    "\n",
    "public class BubbleTort{\n",
    "    public int comparisons = 0;\n",
    "    public int swaps = 0;\n",
    "\n",
    "    public int getComparisons(){\n",
    "        return this.comparisons;\n",
    "    }\n",
    "\n",
    "    public int getSwaps(){\n",
    "        return this.swaps;\n",
    "    }\n",
    "\n",
    "    public void bubbleTort(int arr[]){\n",
    "        for (int i = 0; i < arr.length - 1; i++){\n",
    "            for (int j = 0; j < arr.length - i - 1; j++){\n",
    "                comparisons++;\n",
    "                if (arr[j] > arr[j + 1]) {\n",
    "                    swaps++;\n",
    "                    int temp = arr[j];\n",
    "                    arr[j] = arr[j + 1];\n",
    "                    arr[j + 1] = temp;\n",
    "                }\n",
    "            }\n",
    "        }\n",
    "    }\n",
    "\n",
    "    public void toString(int arr[]){\n",
    "        for(int i = 0; i < arr.length; i++){\n",
    "            System.out.print(arr[i] + \" \");\n",
    "        }\n",
    "        System.out.println();\n",
    "    }\n",
    "\n",
    "    public int[] fiveThousand(){\n",
    "        int[] tortArr = new int[5001];\n",
    "        Random rand = new Random();\n",
    "        for(int i = 0; i < 5001; i++){\n",
    "            tortArr[i] = rand.nextInt(500) + 1;\n",
    "        }\n",
    "        return(tortArr);\n",
    "    }\n",
    "\n",
    "    public static void main(String[] args){\n",
    "        BubbleTort tortoiseColony = new BubbleTort();\n",
    "\n",
    "        for(int j = 0; j < 12; j++){\n",
    "            Long startTime = System.currentTimeMillis();\n",
    "            tortoiseColony.bubbleTort(tortoiseColony.fiveThousand());\n",
    "            // tortoiseColony.toString(tortoiseColony.fiveThousand());\n",
    "            System.out.print(\"Number of Comparisons: \" + tortoiseColony.getComparisons());\n",
    "            System.out.print(\" | Number of Swaps: \" + tortoiseColony.getSwaps());\n",
    "            Long endTime = System.currentTimeMillis();\n",
    "            Long elapsedTime = endTime - startTime;\n",
    "            System.out.println(\" | Milliseconds Taken: \" + elapsedTime);\n",
    "        }\n",
    "        \n",
    "    }\n",
    "}"
   ]
  },
  {
   "cell_type": "code",
   "execution_count": 27,
   "metadata": {
    "vscode": {
     "languageId": "java"
    }
   },
   "outputs": [
    {
     "name": "stdout",
     "output_type": "stream",
     "text": [
      "Number of Comparisons: 12502500 | Number of Swaps: 6230244Milliseconds Taken: 87\n",
      "Number of Comparisons: 25005000 | Number of Swaps: 12437880Milliseconds Taken: 71\n",
      "Number of Comparisons: 37507500 | Number of Swaps: 18610088Milliseconds Taken: 36\n",
      "Number of Comparisons: 50010000 | Number of Swaps: 24943532Milliseconds Taken: 79\n",
      "Number of Comparisons: 62512500 | Number of Swaps: 31227834Milliseconds Taken: 63\n",
      "Number of Comparisons: 75015000 | Number of Swaps: 37581258Milliseconds Taken: 73\n",
      "Number of Comparisons: 87517500 | Number of Swaps: 43832969Milliseconds Taken: 56\n",
      "Number of Comparisons: 100020000 | Number of Swaps: 50111777Milliseconds Taken: 76\n",
      "Number of Comparisons: 112522500 | Number of Swaps: 56442241Milliseconds Taken: 48\n",
      "Number of Comparisons: 125025000 | Number of Swaps: 62724128Milliseconds Taken: 24\n",
      "Number of Comparisons: 137527500 | Number of Swaps: 68992510Milliseconds Taken: 46\n",
      "Number of Comparisons: 150030000 | Number of Swaps: 75166910Milliseconds Taken: 47\n"
     ]
    }
   ],
   "source": [
    "BubbleTort.main(null);"
   ]
  }
 ],
 "metadata": {
  "kernelspec": {
   "display_name": "Java",
   "language": "java",
   "name": "java"
  },
  "language_info": {
   "codemirror_mode": "java",
   "file_extension": ".jshell",
   "mimetype": "text/x-java-source",
   "name": "Java",
   "pygments_lexer": "java",
   "version": "17.0.5+8-Ubuntu-2ubuntu120.04"
  },
  "orig_nbformat": 4
 },
 "nbformat": 4,
 "nbformat_minor": 2
}
