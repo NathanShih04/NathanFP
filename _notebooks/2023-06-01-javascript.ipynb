{
 "cells": [
  {
   "attachments": {},
   "cell_type": "markdown",
   "metadata": {},
   "source": [
    "# JAVASCRIPT EXIT TICKET"
   ]
  },
  {
   "cell_type": "code",
   "execution_count": 49,
   "metadata": {},
   "outputs": [
    {
     "data": {
      "text/html": [
       "<html>\n",
       "    <head>\n",
       "        <style>\n",
       "            #output {\n",
       "                background-color: #f86ddf;\n",
       "                padding: 50px;\n",
       "                border: 40px solid #1a334f;\n",
       "            }\n",
       "        </style>\n",
       "    </head>\n",
       "    <body>\n",
       "        <div id=\"output\">\n",
       "            Hello world!\n",
       "        </div>\n",
       "    </body>\n",
       "</html>\n"
      ],
      "text/plain": [
       "<IPython.core.display.HTML object>"
      ]
     },
     "metadata": {},
     "output_type": "display_data"
    }
   ],
   "source": [
    "%%html\n",
    "<html>\n",
    "    <head>\n",
    "        <style>\n",
    "            #output {\n",
    "                background-color: #f86ddf;\n",
    "                padding: 50px;\n",
    "                border: 40px solid #1a334f;\n",
    "            }\n",
    "        </style>\n",
    "    </head>\n",
    "    <body>\n",
    "        <div id=\"output\">\n",
    "            Hello world!\n",
    "        </div>\n",
    "    </body>\n",
    "</html>"
   ]
  },
  {
   "cell_type": "code",
   "execution_count": 50,
   "metadata": {},
   "outputs": [
    {
     "data": {
      "text/html": [
       "<head>\n",
       "    <!-- load jQuery and DataTables scripts -->\n",
       "    <link rel=\"stylesheet\" type=\"text/css\" href=\"https://cdn.datatables.net/1.13.4/css/jquery.dataTables.min.css\">\n",
       "    <script type=\"text/javascript\" language=\"javascript\" src=\"https://code.jquery.com/jquery-3.6.0.min.js\"></script>\n",
       "    <script>var define = null;</script>\n",
       "    <script type=\"text/javascript\" language=\"javascript\" src=\"https://cdn.datatables.net/1.13.4/js/jquery.dataTables.min.js\"></script>\n",
       "</head>\n",
       "<table id=\"table\" class=\"table\" style=\"width:100%\">\n",
       "    <thead id=\"head\">\n",
       "        <tr>\n",
       "            <th>Name</th>\n",
       "            <th>Capital</th>\n",
       "            <th>Flags</th>\n",
       "        </tr>\n",
       "    </thead>\n",
       "    <tbody id=\"body\"></tbody>\n",
       "</table>\n",
       "\n",
       "<script>\n",
       "  $(document).ready(function() {\n",
       "    const options = {\n",
       "    method: 'GET',\n",
       "    async: true,\n",
       "    crossDomain: true,\n",
       "    headers: {\n",
       "      'X-RapidAPI-Key': '80ed0e7619msh300fdfb6098c24cp160b71jsn6b8d978c56ec',\n",
       "      'X-RapidAPI-Host': 'geography4.p.rapidapi.com',\n",
       "    },\n",
       "  };\n",
       "\n",
       "  \n",
       "  // fetch the API\n",
       "  fetch('https://geography4.p.rapidapi.com/apis/geography/v1/country?params=%7B%22name.common%22%3A%20%22united%20states%22%7D&view=summary', options)\n",
       "\n",
       "    .then(response => {\n",
       "      if (!response.ok) {\n",
       "        throw new Error('API response failed');\n",
       "      }\n",
       "      return response.json();\n",
       "    })\n",
       "    .then(data => {\n",
       "      for (const row of data) {\n",
       "        // BUG warning/resolution - DataTable requires row to be single append\n",
       "        $('#body').append('<tr><td>' + \n",
       "            row.name[\"common\"] + '</td><td>' + \n",
       "            row.capital[0][\"name\"] + '</td><td>' + \n",
       "            row.flags[\"png\"] + '</td></tr>');\n",
       "      }\n",
       "      // BUG warning - Jupyter does not show Datatable controls, works on deployed GitHub pages\n",
       "      $(\"#table\").DataTable();\n",
       "    })\n",
       "    .catch(error => {\n",
       "      console.error('Error:', error);\n",
       "    });\n",
       "  });\n",
       "</script>\n"
      ],
      "text/plain": [
       "<IPython.core.display.HTML object>"
      ]
     },
     "metadata": {},
     "output_type": "display_data"
    }
   ],
   "source": [
    "%%html\n",
    "<head>\n",
    "    <!-- load jQuery and DataTables scripts -->\n",
    "    <link rel=\"stylesheet\" type=\"text/css\" href=\"https://cdn.datatables.net/1.13.4/css/jquery.dataTables.min.css\">\n",
    "    <script type=\"text/javascript\" language=\"javascript\" src=\"https://code.jquery.com/jquery-3.6.0.min.js\"></script>\n",
    "    <script>var define = null;</script>\n",
    "    <script type=\"text/javascript\" language=\"javascript\" src=\"https://cdn.datatables.net/1.13.4/js/jquery.dataTables.min.js\"></script>\n",
    "</head>\n",
    "<table id=\"table\" class=\"table\" style=\"width:100%\">\n",
    "    <thead id=\"head\">\n",
    "        <tr>\n",
    "            <th>Name</th>\n",
    "            <th>Capital</th>\n",
    "            <th>Flags</th>\n",
    "        </tr>\n",
    "    </thead>\n",
    "    <tbody id=\"body\"></tbody>\n",
    "</table>\n",
    "\n",
    "<script>\n",
    "  $(document).ready(function() {\n",
    "    const options = {\n",
    "    method: 'GET',\n",
    "    async: true,\n",
    "    crossDomain: true,\n",
    "    headers: {\n",
    "      'X-RapidAPI-Key': '80ed0e7619msh300fdfb6098c24cp160b71jsn6b8d978c56ec',\n",
    "      'X-RapidAPI-Host': 'geography4.p.rapidapi.com',\n",
    "    },\n",
    "  };\n",
    "\n",
    "  \n",
    "  // fetch the API\n",
    "  fetch('https://geography4.p.rapidapi.com/apis/geography/v1/country?params=%7B%22name.common%22%3A%20%22united%20states%22%7D&view=summary', options)\n",
    "\n",
    "    .then(response => {\n",
    "      if (!response.ok) {\n",
    "        throw new Error('API response failed');\n",
    "      }\n",
    "      return response.json();\n",
    "    })\n",
    "    .then(data => {\n",
    "      for (const row of data) {\n",
    "        // BUG warning/resolution - DataTable requires row to be single append\n",
    "        $('#body').append('<tr><td>' + \n",
    "            row.name[\"common\"] + '</td><td>' + \n",
    "            row.capital[0][\"name\"] + '</td><td>' + \n",
    "            row.flags[\"png\"] + '</td></tr>');\n",
    "      }\n",
    "      // BUG warning - Jupyter does not show Datatable controls, works on deployed GitHub pages\n",
    "      $(\"#table\").DataTable();\n",
    "    })\n",
    "    .catch(error => {\n",
    "      console.error('Error:', error);\n",
    "    });\n",
    "  });\n",
    "</script>"
   ]
  },
  {
   "cell_type": "code",
   "execution_count": null,
   "metadata": {},
   "outputs": [],
   "source": []
  }
 ],
 "metadata": {
  "kernelspec": {
   "display_name": "Python 3",
   "language": "python",
   "name": "python3"
  },
  "language_info": {
   "codemirror_mode": {
    "name": "ipython",
    "version": 3
   },
   "file_extension": ".py",
   "mimetype": "text/x-python",
   "name": "python",
   "nbconvert_exporter": "python",
   "pygments_lexer": "ipython3",
   "version": "3.8.10"
  },
  "orig_nbformat": 4
 },
 "nbformat": 4,
 "nbformat_minor": 2
}
