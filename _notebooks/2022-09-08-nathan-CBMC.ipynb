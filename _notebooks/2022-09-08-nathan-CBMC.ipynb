{
 "cells": [
  {
   "cell_type": "markdown",
   "metadata": {},
   "source": [
    "# CB Multiple Choice Corrections\n",
    "> College board MC practice and corrections"
   ]
  },
  {
   "cell_type": "markdown",
   "metadata": {},
   "source": [
    "![Banner](https://github.com/NathanShih04/NathanFP/blob/master/assets/CB%20MC%20BANNER.PNG?raw=true)"
   ]
  },
  {
   "cell_type": "markdown",
   "metadata": {},
   "source": [
    "### Q6\n",
    "![q6](https://github.com/NathanShih04/NathanFP/blob/master/assets/CB%20MC%20Q6.PNG?raw=true)\n",
    "\n",
    "This question I probably moved too fast because returning d1-d2 would only check one side for tolerances. I was also not too sure what Math.abs did but now that I look at it, it's absolute value so that would be the right answer."
   ]
  },
  {
   "cell_type": "markdown",
   "metadata": {},
   "source": [
    "### Q19\n",
    "![q19](https://github.com/NathanShih04/NathanFP/blob/master/assets/CB%20MC%20Q19.PNG?raw=true)\n",
    "\n",
    "This is Demorgan's law and I completely forgot how the signs and distribution worked. However, now I know that you distribute the ! normally but the signs must change if a ! is distributed. For this reason, the answer would be B."
   ]
  },
  {
   "cell_type": "markdown",
   "metadata": {},
   "source": [
    "### Q29\n",
    "![q29](https://github.com/NathanShih04/NathanFP/blob/master/assets/CB%20MC%20Q29.PNG?raw=true)\n",
    "\n",
    "In this question, it asks to select the code segment that has the same output as the code segment given(divisble by 4). The answer choice B that I chose would count by 4s but it won't print out the correct values as k is initialized to 1 instead of 4. Therefore, answer choice B is correct."
   ]
  },
  {
   "cell_type": "markdown",
   "metadata": {},
   "source": [
    "### Q40\n",
    "![q40](https://github.com/NathanShih04/NathanFP/blob/master/assets/CB%20MC%20Q40.PNG?raw=true)\n",
    "\n",
    "This question was pretty confusing for me as it deals with recursion. I know that it recurs through the word and prints out the letters but I didn't know which order it was returned in. After looking at it a little bit more, I realized that it will return the word with 1 letter first then work its way down to len-1 letters. Therefore, the answer will be C instead of A."
   ]
  }
 ],
 "metadata": {
  "kernelspec": {
   "display_name": "Python 3.8.10 64-bit",
   "language": "python",
   "name": "python3"
  },
  "language_info": {
   "name": "python",
   "version": "3.8.10 (default, Jun 22 2022, 20:18:18) \n[GCC 9.4.0]"
  },
  "orig_nbformat": 4,
  "vscode": {
   "interpreter": {
    "hash": "916dbcbb3f70747c44a77c7bcd40155683ae19c65e1c03b4aa3499c5328201f1"
   }
  }
 },
 "nbformat": 4,
 "nbformat_minor": 2
}
