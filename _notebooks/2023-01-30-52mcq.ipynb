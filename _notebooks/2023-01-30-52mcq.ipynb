{
 "cells": [
  {
   "cell_type": "markdown",
   "metadata": {},
   "source": [
    "# 52 Question MC Review\n",
    "> Corrections and improvements"
   ]
  },
  {
   "attachments": {},
   "cell_type": "markdown",
   "metadata": {},
   "source": [
    "## Score: 46/52(88%)\n",
    "![image](https://user-images.githubusercontent.com/88810038/215698255-1d6d4ae8-5d89-4ee7-9132-cfb0d31becf4.png)\n",
    "The test took me around an hour and ten minutes to complete in multiple sessions and there were definitely concepts that I was unsure of. I tried to take the test all on my own but had to reference google for a few of them. Some of these weaknesses I believe I can iron out and become better at once I get the concept down with more practice. \n",
    "\n",
    "Some of the weak areas include: \n",
    "- Analyzing functions\n",
    "- Compile Errors\n",
    "- Enhanced For Loop"
   ]
  },
  {
   "attachments": {},
   "cell_type": "markdown",
   "metadata": {},
   "source": [
    "### Q10\n",
    "![image](https://user-images.githubusercontent.com/88810038/215700321-da1326bf-1933-413b-98d3-ac64d68183f8.png)\n",
    "The answer should have been d, 0008 and not e because although you can concatenate strings together, I thought you couldnt concatenate integers. However, primitive int values are concatentated with a string object implicity. "
   ]
  },
  {
   "attachments": {},
   "cell_type": "markdown",
   "metadata": {},
   "source": [
    "### Q15\n",
    "![image](https://user-images.githubusercontent.com/88810038/215702598-777a55c0-bbb2-418c-9706-eb39299c5ed8.png)\n",
    "The answer should have been e, not b since there would be an infinite loop created since A would forever be counting. With just pos + 1, A gets counted then moves on."
   ]
  },
  {
   "attachments": {},
   "cell_type": "markdown",
   "metadata": {},
   "source": [
    "### Q19\n",
    "![image](https://user-images.githubusercontent.com/88810038/215703316-9e8e1afd-9018-4944-b0ef-f3c52a54c579.png)\n",
    "The answer should have been c, not b since the for loop assigns k from 0 to the last position in str. The what method returns the value of the last occurance of check inside str because it goes towards the length of check and not the first index."
   ]
  },
  {
   "attachments": {},
   "cell_type": "markdown",
   "metadata": {},
   "source": [
    "### Q42\n",
    "![image](https://user-images.githubusercontent.com/88810038/215704513-a6e2d474-e5d9-49a0-8882-045dc2431968.png)\n",
    "The answer should have been d, not b since I previously thought that all 0s would be eliminated. However, since it removes the k value inside of the if statement, it would jump over the second 0, leaving it inside the return value."
   ]
  },
  {
   "attachments": {},
   "cell_type": "markdown",
   "metadata": {},
   "source": [
    "### Q46\n",
    "![image](https://user-images.githubusercontent.com/88810038/215705783-2f708d0c-3476-4028-afe6-f049cbec45e3.png)\n",
    "The answer should have been b, not c since major is private to StudentInfo so it can only be accessed by calling getMajor. In order to do it, you'd have to use getMajor() method on k and then add to age of k to increase count by 1."
   ]
  },
  {
   "attachments": {},
   "cell_type": "markdown",
   "metadata": {},
   "source": [
    "### Q49\n",
    "![image](https://user-images.githubusercontent.com/88810038/215707439-78b4885e-c14a-4f4c-bb4f-42eca776819c.png)\n",
    "The answer should have been b, 54 and not c. This is a question with an enhanced for loop and I forgot how to do this so I guessed. The answer should have been 54 since it iterates till x-1. This means that it'll only get to three columns that add up, leading to an answer of 54."
   ]
  }
 ],
 "metadata": {
  "kernelspec": {
   "display_name": "Java",
   "language": "java",
   "name": "java"
  },
  "language_info": {
   "name": "java",
   "version": "3.8.10 (default, Jun 22 2022, 20:18:18) \n[GCC 9.4.0]"
  },
  "orig_nbformat": 4,
  "vscode": {
   "interpreter": {
    "hash": "916dbcbb3f70747c44a77c7bcd40155683ae19c65e1c03b4aa3499c5328201f1"
   }
  }
 },
 "nbformat": 4,
 "nbformat_minor": 2
}
