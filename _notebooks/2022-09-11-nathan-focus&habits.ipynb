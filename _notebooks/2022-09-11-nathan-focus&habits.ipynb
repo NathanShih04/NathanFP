{
 "cells": [
  {
   "cell_type": "markdown",
   "metadata": {},
   "source": [
    "# Focus & Habits\n",
    "> Focus and Habits"
   ]
  },
  {
   "cell_type": "markdown",
   "metadata": {},
   "source": [
    "## Psychology and the Good Life\n",
    "\n",
    "State of mind and quality of life have always been important to me throughout life. I believe that finding satisfaction in life is through balance. I know everything won't be rainbow and butterflies and there will definitely be hardship and struggle but I know that at least some aspects of life can be rainbow and butterflies. It all comes down to balance and I seek to have a positive outlook on life and enjoy every minute that I'm on it. CODE CODE CODE!\n",
    "\n",
    "## Ways to Reduce Stress\n",
    "\n",
    "I reduce stress by hopping on youtube and watching videos about fishing, cars, and a bunch of random stuff on the internet. Going down the rabbit holes of youtube is always fun for me and find myself watching videos about scaring goats for hours and hours. I also enjoy going outside and being in nature. Nothing really matters in nature except connecting with the outdoors and going back to our primal roots. However, the biggest stress reliever is going to the gym. All the anger that I have at stupid school is targetted into each rep at the gym. Each pound lifted is equivalent to each part of my immeasurable sadness that school and college apps give me. Each time I punch the bag at the gym is a direct hit at my crippling depression that Calculus BC gave me.\n",
    "\n",
    "## Positive Outlook\n",
    "\n",
    "The key to find positivity in life is to seek the good and never stop loving turtles. :)))))))))"
   ]
  }
 ],
 "metadata": {
  "kernelspec": {
   "display_name": "Python 3.8.10 64-bit",
   "language": "python",
   "name": "python3"
  },
  "language_info": {
   "name": "python",
   "version": "3.8.10"
  },
  "orig_nbformat": 4,
  "vscode": {
   "interpreter": {
    "hash": "916dbcbb3f70747c44a77c7bcd40155683ae19c65e1c03b4aa3499c5328201f1"
   }
  }
 },
 "nbformat": 4,
 "nbformat_minor": 2
}
