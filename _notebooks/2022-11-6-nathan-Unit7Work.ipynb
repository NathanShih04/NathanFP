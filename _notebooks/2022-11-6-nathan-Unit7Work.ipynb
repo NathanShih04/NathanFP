{
 "cells": [
  {
   "attachments": {},
   "cell_type": "markdown",
   "metadata": {},
   "source": [
    "# Unit 7 - ArrayList\n",
    "> Arraylist "
   ]
  },
  {
   "attachments": {},
   "cell_type": "markdown",
   "metadata": {},
   "source": [
    "### Learnings\n",
    "- Like an array but length is variable\n",
    "- Must sue wrapper class\n",
    "- Works with enhanced loops"
   ]
  },
  {
   "attachments": {},
   "cell_type": "markdown",
   "metadata": {},
   "source": [
    "#### Wrapper Classes\n",
    "- Used with arraylist for primitives\n",
    "- Java auto converts between wrappers and primitives"
   ]
  },
  {
   "cell_type": "code",
   "execution_count": 1,
   "metadata": {
    "vscode": {
     "languageId": "java"
    }
   },
   "outputs": [
    {
     "name": "stdout",
     "output_type": "stream",
     "text": [
      "[10, 1]\n"
     ]
    }
   ],
   "source": [
    "// Integer wrapper class\n",
    "ArrayList<Integer> listOfIntegers = new ArrayList<>();\n",
    "\n",
    "listOfIntegers.add(new Integer(10));\n",
    "\n",
    "// automatically converts to Integer\n",
    "listOfIntegers.add(1);\n",
    "\n",
    "// using toString method of ArrayList\n",
    "System.out.println(listOfIntegers);"
   ]
  },
  {
   "attachments": {},
   "cell_type": "markdown",
   "metadata": {},
   "source": [
    "### Hack 1"
   ]
  },
  {
   "cell_type": "code",
   "execution_count": 2,
   "metadata": {
    "vscode": {
     "languageId": "java"
    }
   },
   "outputs": [
    {
     "name": "stdout",
     "output_type": "stream",
     "text": [
      "4\n",
      "4\n",
      "4\n",
      "5\n",
      "5\n"
     ]
    }
   ],
   "source": [
    "// HACK!!!!\n",
    "// Create an arrayList and use one of the cool methods for it\n",
    "\n",
    "import java.util.ArrayList; \n",
    "import java.lang.Math;\n",
    "\n",
    "public class hack1 {\n",
    "    public static void main (String[] args) {\n",
    "        ArrayList<Integer> arr = new ArrayList<Integer>();\n",
    "        arr.add(5);\n",
    "        arr.add(4);\n",
    "        arr.add(3);\n",
    "        int min = 0;\n",
    "        int max = arr.size();\n",
    "        int range = max - min;\n",
    "        \n",
    "        for (int i = 0; i < 5; i++) {\n",
    "            int rand = (int)(Math.random() * range) + min;\n",
    "            System.out.println(arr.get(rand));\n",
    "        }\n",
    "\n",
    "       \n",
    "    }\n",
    "}\n",
    "\n",
    "hack1.main(null);"
   ]
  },
  {
   "attachments": {},
   "cell_type": "markdown",
   "metadata": {},
   "source": [
    "### Hack 2"
   ]
  },
  {
   "cell_type": "code",
   "execution_count": null,
   "metadata": {
    "vscode": {
     "languageId": "java"
    }
   },
   "outputs": [],
   "source": [
    "import java.util.ArrayList;\n",
    "\n",
    "public class main {\n",
    "    public static void main(String[] args) {\n",
    "        ArrayList<String> color = new ArrayList<String>(); \n",
    "        color.add(\"red apple\");\n",
    "        color.add(\"green box\");\n",
    "        color.add(\"blue water\");\n",
    "        color.add(\"red panda\");\n",
    "\n",
    "\n",
    "        for (int i = 0; i < color.size(); i++) {\n",
    "            if(color.get(i).contains(\"red\")) {\n",
    "                color.remove(i);\n",
    "            }\n",
    "        }\n",
    "        \n",
    "        System.out.println(color);\n",
    "    }\n",
    "}\n",
    "\n",
    "\n",
    "/*/ \n",
    "using \n",
    "\n",
    "if(color.get(i).contains(\"red\"))\n",
    "\n",
    "iterate through the arraylist and remove all elements that contain the word red in them\n",
    "/*/\n",
    "main.main(null);"
   ]
  },
  {
   "attachments": {},
   "cell_type": "markdown",
   "metadata": {},
   "source": [
    "### Hack 3"
   ]
  },
  {
   "cell_type": "code",
   "execution_count": null,
   "metadata": {
    "vscode": {
     "languageId": "java"
    }
   },
   "outputs": [],
   "source": [
    "// find the sum of the elements in the arraylist\n",
    "\n",
    "ArrayList<Integer> num = new ArrayList<Integer>(); \n",
    "\n",
    "num.add(5);\n",
    "num.add(1);\n",
    "num.add(3);\n",
    "\n",
    "public int sum = 0;\n",
    "\n",
    "for (int i = 0; i<num.size(); i++) {\n",
    "    sum = sum + num.get(i);\n",
    "}\n",
    "\n",
    "System.out.println(sum);"
   ]
  }
 ],
 "metadata": {
  "kernelspec": {
   "display_name": "Java",
   "language": "java",
   "name": "java"
  },
  "language_info": {
   "codemirror_mode": "java",
   "file_extension": ".jshell",
   "mimetype": "text/x-java-source",
   "name": "Java",
   "pygments_lexer": "java",
   "version": "17.0.5+8-Ubuntu-2ubuntu120.04"
  },
  "orig_nbformat": 4,
  "vscode": {
   "interpreter": {
    "hash": "916dbcbb3f70747c44a77c7bcd40155683ae19c65e1c03b4aa3499c5328201f1"
   }
  }
 },
 "nbformat": 4,
 "nbformat_minor": 2
}
