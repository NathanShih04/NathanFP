{
 "cells": [
  {
   "attachments": {},
   "cell_type": "markdown",
   "metadata": {},
   "source": [
    "# Unit 7 - ArrayList\n",
    "> Arraylist "
   ]
  },
  {
   "attachments": {},
   "cell_type": "markdown",
   "metadata": {},
   "source": [
    "### Learnings\n",
    "- Like an array but length is variable\n",
    "- Must sue wrapper class\n",
    "- Works with enhanced loops"
   ]
  },
  {
   "attachments": {},
   "cell_type": "markdown",
   "metadata": {},
   "source": [
    "#### Wrapper Classes\n",
    "- Used with arraylist for primitives\n",
    "- Java auto converts between wrappers and primitives"
   ]
  },
  {
   "cell_type": "code",
   "execution_count": 1,
   "metadata": {
    "vscode": {
     "languageId": "java"
    }
   },
   "outputs": [
    {
     "name": "stdout",
     "output_type": "stream",
     "text": [
      "[10, 1]\n"
     ]
    }
   ],
   "source": [
    "// Integer wrapper class\n",
    "ArrayList<Integer> listOfIntegers = new ArrayList<>();\n",
    "\n",
    "listOfIntegers.add(new Integer(10));\n",
    "\n",
    "// automatically converts to Integer\n",
    "listOfIntegers.add(1);\n",
    "\n",
    "// using toString method of ArrayList\n",
    "System.out.println(listOfIntegers);"
   ]
  }
 ],
 "metadata": {
  "kernelspec": {
   "display_name": "Java",
   "language": "java",
   "name": "java"
  },
  "language_info": {
   "codemirror_mode": "java",
   "file_extension": ".jshell",
   "mimetype": "text/x-java-source",
   "name": "Java",
   "pygments_lexer": "java",
   "version": "17.0.5+8-Ubuntu-2ubuntu120.04"
  },
  "orig_nbformat": 4,
  "vscode": {
   "interpreter": {
    "hash": "916dbcbb3f70747c44a77c7bcd40155683ae19c65e1c03b4aa3499c5328201f1"
   }
  }
 },
 "nbformat": 4,
 "nbformat_minor": 2
}
