{
 "cells": [
  {
   "cell_type": "markdown",
   "metadata": {},
   "source": [
    "# FRQ 1 - 2019\n",
    "> FRQ 1 on 2019"
   ]
  },
  {
   "cell_type": "markdown",
   "metadata": {},
   "source": [
    "This frq from 2019 deals with a calendar where you have to write two methods of the class in order to calculate the number of leap years between year1 and year2 inclusively as well as write a method that returns an integer representing the day of the week for the given date (month, day, year)."
   ]
  },
  {
   "cell_type": "markdown",
   "metadata": {},
   "source": [
    "# Part A\n",
    "Write the static method numberOfLeapYears, which returns the number of leap years between year1 and year2, inclusive.\n",
    "In order to calculate this value, a helper method is provided for you.\n",
    "• isLeapYear(year) returns true if year is a leap year and false otherwise.\n",
    "Complete method numberOfLeapYears below. You must use isLeapYear appropriately to receive full credit."
   ]
  },
  {
   "cell_type": "code",
   "execution_count": null,
   "metadata": {},
   "outputs": [],
   "source": [
    "// Part A solution\n",
    "\n",
    "public static int numberOfLeapYears(int year1, int year2){\n",
    "    int numLeapYears = 0;\n",
    "    for(int i = year1; i <= year2, i++){\n",
    "        if(isLeapYear(i)){\n",
    "            numLeapYears++;\n",
    "        }\n",
    "    }\n",
    "    return numLeapYears;\n",
    "}"
   ]
  },
  {
   "cell_type": "markdown",
   "metadata": {},
   "source": [
    "# Part B\n",
    "Write the static method dayOfWeek, which returns the integer value representing the day of the week for the given date (month, day, year), where 0 denotes Sunday, 1 denotes Monday, ..., and 6 denotes Saturday. \n",
    "For example, 2019 began on a Tuesday, and January 5 is the fifth day of 2019. As a result, January 5, 2019, fell on a Saturday, and the method call dayOfWeek(1, 5, 2019) returns 6.\n",
    "As another example, January 10 is the tenth day of 2019. As a result, January 10, 2019, fell on a Thursday, and the method call dayOfWeek(1, 10, 2019) returns 4.\n",
    "In order to calculate this value, two helper methods are provided for you.\n",
    "• firstDayOfYear(year) returns the integer value representing the day of the week for the first day of year, where 0 denotes Sunday, 1 denotes Monday, ..., and 6 denotes Saturday. For example, since 2019 began on a Tuesday, firstDayOfYear(2019) returns 2.\n",
    "• dayOfYear(month, day, year) returns n, where month, day, and year specify the nth day of the year. For the first day of the year, January 1 (month = 1, day = 1), the value 1 is returned. This method accounts for whether year is a leap year. For example, dayOfYear(3, 1, 2017) returns 60, since 2017 is not a leap year, while dayOfYear(3, 1, 2016) returns 61, since 2016 is a leap year. \n",
    "Complete method dayOfWeek below. You must use firstDayOfYear and dayOfYear appropriately to receive full credit. "
   ]
  },
  {
   "cell_type": "code",
   "execution_count": null,
   "metadata": {},
   "outputs": [],
   "source": [
    "// Part B Solution\n",
    "public static int daysOfWeek(int month, int day, int year){\n",
    "    int firstDay = firstDayOfYear(year);\n",
    "    int nth = dayOfYear(month, day, year);\n",
    "    int returnDay = ((firstDay + nth) -1) % 7;\n",
    "    return returnDay;\n",
    "}"
   ]
  },
  {
   "cell_type": "markdown",
   "metadata": {},
   "source": [
    "# Completed Code"
   ]
  },
  {
   "cell_type": "code",
   "execution_count": null,
   "metadata": {},
   "outputs": [],
   "source": [
    "public class APCalendar{\n",
    "    /** Returns true if year is a leap year and false otherwise. */\n",
    "    private static boolean isLeapYear(int year)\n",
    "    { /* implementation not shown */ }\n",
    "    /** Returns the number of leap years between year1 and year2, inclusive.\n",
    "     * Precondition: 0 <= year1 <= year2\n",
    "     */\n",
    "    public static int numberOfLeapYears(int year1, int year2){\n",
    "        int numLeapYears = 0;\n",
    "        for(int i = year1; i <= year2, i++){\n",
    "            if(isLeapYear(i)){\n",
    "                numLeapYears++;\n",
    "            }\n",
    "        }\n",
    "        return numLeapYears;\n",
    "    }\n",
    "    /** Returns the value representing the day of the week for the first day of year,\n",
    "     * where 0 denotes Sunday, 1 denotes Monday, ..., and 6 denotes Saturday.\n",
    "     */\n",
    "    private static int firstDayOfYear(int year)\n",
    "    { /* implementation not shown */ }\n",
    "    /** Returns n, where month, day, and year specify the nth day of the year.\n",
    "     * Returns 1 for January 1 (month = 1, day = 1) of any year.\n",
    "     * Precondition: The date represented by month, day, year is a valid date.\n",
    "     */\n",
    "    private static int dayOfYear(int month, int day, int year)\n",
    "    { /* implementation not shown */ }\n",
    "    /** Returns the value representing the day of the week for the given date\n",
    "     * (month, day, year), where 0 denotes Sunday, 1 denotes Monday, ...,\n",
    "     * and 6 denotes Saturday.\n",
    "     * Precondition: The date represented by month, day, year is a valid date.\n",
    "     */\n",
    "    public static int daysOfWeek(int month, int day, int year){\n",
    "        int firstDay = firstDayOfYear(year);\n",
    "        int nth = dayOfYear(month, day, year);\n",
    "        int returnDay = ((firstDay + nth) -1) % 7;\n",
    "        return returnDay;\n",
    "    }\n",
    "    // There may be instance variables, constructors, and other methods not shown.\n",
    "}"
   ]
  }
 ],
 "metadata": {
  "kernelspec": {
   "display_name": "Java",
   "language": "java",
   "name": "java"
  },
  "language_info": {
   "name": "java"
  },
  "orig_nbformat": 4
 },
 "nbformat": 4,
 "nbformat_minor": 2
}
