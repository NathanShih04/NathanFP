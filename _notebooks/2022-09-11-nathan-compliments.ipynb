{
 "cells": [
  {
   "cell_type": "markdown",
   "metadata": {},
   "source": [
    "# Nathan Compliments Extra Notebook\n",
    "> Compliments extra notebook"
   ]
  },
  {
   "cell_type": "code",
   "execution_count": 10,
   "metadata": {
    "vscode": {
     "languageId": "java"
    }
   },
   "outputs": [],
   "source": [
    "import java.util.Scanner;"
   ]
  },
  {
   "cell_type": "code",
   "execution_count": 11,
   "metadata": {
    "vscode": {
     "languageId": "java"
    }
   },
   "outputs": [],
   "source": [
    "class Compliments {\n",
    "\n",
    "    // Function that uses if, else if, and else to decide which compliment to print out.\n",
    "    public void nice(int choice){\n",
    "        if(choice == 1){\n",
    "            System.out.println(\"You're pretty!\");\n",
    "        }\n",
    "        else if(choice == 2){\n",
    "            System.out.println(\"You're strong!\");\n",
    "        }\n",
    "        else if(choice == 3){\n",
    "            System.out.println(\"You're cool!\");\n",
    "        }\n",
    "        else if(choice == 4){\n",
    "            System.out.println(\"You're smart!\");\n",
    "        }\n",
    "        else{\n",
    "            System.out.println(\"You did not choose an option for a random compliment!\");\n",
    "        }\n",
    "        \n",
    "    }\n",
    "\n",
    "    // Function that is converted to switch, case, and other to decide which insult to print out.\n",
    "    public void mean(int choice){\n",
    "        switch(choice){\n",
    "            case 1:\n",
    "                System.out.println(\"You're ugly!\");\n",
    "                break;\n",
    "            case 2:\n",
    "                System.out.println(\"You're weak!\");\n",
    "                break;\n",
    "            case 3:\n",
    "                System.out.println(\"You're lame!\");\n",
    "                break;\n",
    "            case 4:\n",
    "                System.out.println(\"You're dumb!\");\n",
    "                break;\n",
    "            case 5:\n",
    "                System.out.println(\"くコ:彡\");\n",
    "                break;\n",
    "            default:\n",
    "                System.out.println(\"You did not choose an option for a random insult!\");\n",
    "        }\n",
    "    }\n",
    "\n",
    "}"
   ]
  },
  {
   "cell_type": "code",
   "execution_count": 12,
   "metadata": {
    "vscode": {
     "languageId": "java"
    }
   },
   "outputs": [
    {
     "name": "stdout",
     "output_type": "stream",
     "text": [
      "Input 1 for a compliment and anything else for an insult: \n",
      "Input 1-4 for a random compliment: \n",
      "This was printed using if-elseif-else: \n",
      "You're cool!\n"
     ]
    }
   ],
   "source": [
    "// Objects created for Compliments class and Scanner for user input\n",
    "Compliments comp = new Compliments();\n",
    "Scanner scan = new Scanner(System.in);\n",
    "\n",
    "// Prompts user to choose whether or not they want a compliment or insult and changes it into a boolean\n",
    "System.out.println(\"Input 1 for a compliment and anything else for an insult: \");\n",
    "int compOrInsult = Integer.parseInt(scan.nextLine());\n",
    "boolean decision;\n",
    "// compliment\n",
    "if(compOrInsult == 1){\n",
    "    decision = true;\n",
    "}\n",
    "// insult\n",
    "else{\n",
    "    decision = false;\n",
    "}\n",
    "\n",
    "// code block to prompt user to choose a random compliment\n",
    "if(decision){\n",
    "    System.out.println(\"Input 1-4 for a random compliment: \");\n",
    "    int rand = Integer.parseInt(scan.nextLine());\n",
    "    System.out.println(\"This was printed using if-elseif-else: \");\n",
    "    comp.nice(rand);\n",
    "}\n",
    "// code block to prompt user to choose a random insult\n",
    "else if(!decision){\n",
    "    System.out.println(\"Input 1-4 for a random compliment: \");\n",
    "    int rand = Integer.parseInt(scan.nextLine());\n",
    "    System.out.println(\"This was printed using switch-case-otherwise: \");\n",
    "    comp.mean(rand);\n",
    "}"
   ]
  }
 ],
 "metadata": {
  "kernelspec": {
   "display_name": "Java",
   "language": "java",
   "name": "java"
  },
  "language_info": {
   "codemirror_mode": "java",
   "file_extension": ".jshell",
   "mimetype": "text/x-java-source",
   "name": "Java",
   "pygments_lexer": "java",
   "version": "11.0.16+8-post-Ubuntu-0ubuntu120.04"
  },
  "orig_nbformat": 4
 },
 "nbformat": 4,
 "nbformat_minor": 2
}
