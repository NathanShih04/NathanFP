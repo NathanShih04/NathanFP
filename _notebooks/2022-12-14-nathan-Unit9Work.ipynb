{
 "cells": [
  {
   "attachments": {},
   "cell_type": "markdown",
   "metadata": {},
   "source": [
    "# Unit 9\n",
    "[OWN LESSON](https://ad1616.github.io/ADfastpages/cb/2022/12/08/InheritanceLesson.html)"
   ]
  }
 ],
 "metadata": {
  "kernelspec": {
   "display_name": "Java",
   "language": "java",
   "name": "java"
  },
  "language_info": {
   "name": "java"
  },
  "orig_nbformat": 4
 },
 "nbformat": 4,
 "nbformat_minor": 2
}
