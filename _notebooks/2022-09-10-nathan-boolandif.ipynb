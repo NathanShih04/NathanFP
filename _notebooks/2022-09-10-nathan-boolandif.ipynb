{
 "cells": [
  {
   "cell_type": "markdown",
   "metadata": {},
   "source": [
    "# Nathan Bool and If Statements Notebook\n",
    "> Bool and If Statements Notebook"
   ]
  },
  {
   "cell_type": "markdown",
   "metadata": {},
   "source": [
    "if statement runs the code contained inside if the condition inside of the statement is satisfied"
   ]
  },
  {
   "cell_type": "code",
   "execution_count": 1,
   "metadata": {},
   "outputs": [
    {
     "name": "stdout",
     "output_type": "stream",
     "text": [
      "The lights are on!\n",
      "The lights are on!\n"
     ]
    }
   ],
   "source": [
    "// set up variable\n",
    "boolean lights = true;\n",
    "\n",
    "// if the lights is set to true, it will print the statement\n",
    "if(lights == true){\n",
    "    System.out.println(\"The lights are on!\");\n",
    "}\n",
    "\n",
    "// another way of doing the same thing using boolean expressions\n",
    "if(lights){\n",
    "    System.out.println(\"The lights are on!\");\n",
    "}\n"
   ]
  },
  {
   "cell_type": "markdown",
   "metadata": {},
   "source": [
    "if-else statement runs the if statment first, but if that condition is not met, it will run whatever is in the else statement\n"
   ]
  },
  {
   "cell_type": "code",
   "execution_count": 2,
   "metadata": {},
   "outputs": [
    {
     "name": "stdout",
     "output_type": "stream",
     "text": [
      "The lights are off!\n",
      "The lights are off!\n"
     ]
    }
   ],
   "source": [
    "// set up variable\n",
    "boolean lights = false;\n",
    "\n",
    "// if the lights is set to true, it will print the statement. Else the lights are off.\n",
    "if(lights == true){\n",
    "    System.out.println(\"The lights are on!\");\n",
    "}\n",
    "else{\n",
    "    System.out.println(\"The lights are off!\");\n",
    "}\n",
    "\n",
    "// another way of doing the same thing using boolean expressions (if lights are not false, meaning they are true)\n",
    "if(lights != false){\n",
    "    System.out.println(\"The lights are on!\");\n",
    "}\n",
    "else{\n",
    "    System.out.println(\"The lights are off!\");\n",
    "}"
   ]
  },
  {
   "cell_type": "markdown",
   "metadata": {},
   "source": [
    "if-elseif-else first checks to see if the if statement condition is met. If not, it will go through all else ifs and check until one of those conditions are met. If neither the if and else if statements are met, it will run the else statement."
   ]
  },
  {
   "cell_type": "code",
   "execution_count": 3,
   "metadata": {},
   "outputs": [
    {
     "name": "stdout",
     "output_type": "stream",
     "text": [
      "Both the lights and fan must be on!\n"
     ]
    }
   ],
   "source": [
    "// Setting variables to demonstrate if, else if, and else.\n",
    "boolean lights = true;\n",
    "boolean fan = true;\n",
    "\n",
    "// First checks if statement \n",
    "if(lights && !fan){\n",
    "    System.out.println(\"The lights are on and the fan is off!\");\n",
    "}\n",
    "// Goes down else ifs\n",
    "else if(!lights && fan){\n",
    "    System.out.println(\"The lights are off and the fan is on!\");\n",
    "}\n",
    "else if(!lights && !fan){\n",
    "    System.out.println(\"The lights are off and the fan is off!\");\n",
    "}\n",
    "else if(!lights || !fan){\n",
    "    System.out.println(\"Either the lights are off or the fan is off!\");\n",
    "}\n",
    "// If none of the above run, else block will run\n",
    "else{\n",
    "    System.out.println(\"Both the lights and fan must be on!\");\n",
    "}\n"
   ]
  },
  {
   "cell_type": "markdown",
   "metadata": {},
   "source": [
    "De Morgan's Law shows how we can remove an && statement or remove an || statement. It's the way of creating equivalent statements by switching the && or || and distributing the ! sign if you need. "
   ]
  },
  {
   "cell_type": "code",
   "execution_count": 4,
   "metadata": {},
   "outputs": [
    {
     "name": "stdout",
     "output_type": "stream",
     "text": [
      "First Demonstration:\n",
      "Everything is on!\n",
      "Second Demonstration:\n",
      "Everything is off!\n",
      "Everything is off!\n",
      "Third Demonstration: \n",
      "true\n",
      "true\n",
      "Overly complicated for no reason:\n",
      "Either lights are on or fan is off, or sink and shower are on.\n"
     ]
    }
   ],
   "source": [
    "// First demonstration\n",
    "System.out.println(\"First Demonstration:\");\n",
    "boolean lights = true;\n",
    "boolean fan = true;\n",
    "\n",
    "// first way\n",
    "if(!(lights && fan)){\n",
    "    System.out.println(\"Something is off!\");\n",
    "}\n",
    "\n",
    "// second way\n",
    "if(!lights || !fan){\n",
    "    System.out.println(\"Something is off!\");\n",
    "}\n",
    "\n",
    "// if one of the variables is set to true\n",
    "else{\n",
    "    System.out.println(\"Everything is on!\");\n",
    "}\n",
    "\n",
    "\n",
    "\n",
    "// Second demonstration\n",
    "System.out.println(\"Second Demonstration:\");\n",
    "boolean sink = false;\n",
    "boolean shower = false;\n",
    "\n",
    "// first way\n",
    "if(!(sink || shower)){\n",
    "    System.out.println(\"Everything is off!\");\n",
    "}\n",
    "\n",
    "// second way\n",
    "if(!sink && !shower){\n",
    "    System.out.println(\"Everything is off!\");\n",
    "}\n",
    "\n",
    "else{\n",
    "    System.out.println(\"Something is on!\");\n",
    "}\n",
    "\n",
    "\n",
    "\n",
    "// third demonstration\n",
    "System.out.println(\"Third Demonstration: \");\n",
    "int num1 = 3;\n",
    "int num2 = 10;\n",
    "\n",
    "// first way\n",
    "System.out.println(!(num1 == 5 && num2 != 5));\n",
    "// second way\n",
    "System.out.println(num1 != 5 || num2 == 5);\n",
    "\n",
    "\n",
    "// Weird and confusing\n",
    "System.out.println(\"Overly complicated for no reason:\");\n",
    "if((lights || !fan) || (sink && shower)){\n",
    "    System.out.println(\"Either lights are on or fan is off, or sink and shower are on.\");\n",
    "}\n"
   ]
  },
  {
   "cell_type": "code",
   "execution_count": null,
   "metadata": {},
   "outputs": [],
   "source": []
  }
 ],
 "metadata": {
  "kernelspec": {
   "display_name": "Java",
   "language": "java",
   "name": "java"
  },
  "language_info": {
   "codemirror_mode": "java",
   "file_extension": ".jshell",
   "mimetype": "text/x-java-source",
   "name": "java",
   "pygments_lexer": "java",
   "version": "11.0.16+8-post-Ubuntu-0ubuntu120.04"
  },
  "orig_nbformat": 4
 },
 "nbformat": 4,
 "nbformat_minor": 2
}
