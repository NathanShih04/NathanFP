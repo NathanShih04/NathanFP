{
 "cells": [
  {
   "cell_type": "markdown",
   "metadata": {},
   "source": [
    "# Lesson 6 Work\n",
    "> Unit 6 CB"
   ]
  },
  {
   "cell_type": "code",
   "execution_count": null,
   "metadata": {},
   "outputs": [],
   "source": []
  }
 ],
 "metadata": {
  "kernelspec": {
   "display_name": "Python 3.10.4 64-bit",
   "language": "python",
   "name": "python3"
  },
  "language_info": {
   "name": "python",
   "version": "3.10.4"
  },
  "orig_nbformat": 4,
  "vscode": {
   "interpreter": {
    "hash": "6ef0e01c7b70a41bffb23df0700e32d35958c8f3167b69c3a7c24cc73cf6bbbd"
   }
  }
 },
 "nbformat": 4,
 "nbformat_minor": 2
}
