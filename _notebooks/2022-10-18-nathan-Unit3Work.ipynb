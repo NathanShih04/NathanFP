{
 "cells": [
  {
   "cell_type": "markdown",
   "metadata": {},
   "source": [
    "# Lesson 3 Work\n",
    "> Conditionals"
   ]
  },
  {
   "cell_type": "markdown",
   "metadata": {},
   "source": [
    "### Learnings\n",
    "\n",
    "- De Morgan's laws: Help simplify Boolean expressions\n",
    "- !(a&&b) = (!a || !b)\n",
    "- !(a || b) = (!a && !b)\n",
    "- If-else statements allow for more conditions to be defined\n",
    "- Else-if statements allow for more conditions to be defined"
   ]
  },
  {
   "cell_type": "code",
   "execution_count": 5,
   "metadata": {},
   "outputs": [],
   "source": [
    "// FRQ PART A\n",
    "\n",
    "public static int numberOfLeapYears(int year1, int year2){\n",
    "    int numLeapYears = 0;\n",
    "    for(int i = year1; i <= year2; i++){\n",
    "        if(isLeapYear(i)){\n",
    "            numLeapYears++;\n",
    "        }\n",
    "    }\n",
    "    return numLeapYears;\n",
    "}"
   ]
  },
  {
   "cell_type": "code",
   "execution_count": null,
   "metadata": {},
   "outputs": [],
   "source": [
    "// FRQ PART B\n",
    "\n",
    "public class APCalendar{\n",
    "    /** Returns true if year is a leap year and false otherwise. */\n",
    "    private static boolean isLeapYear(int year)\n",
    "    { /* implementation not shown */ }\n",
    "    /** Returns the number of leap years between year1 and year2, inclusive.\n",
    "     * Precondition: 0 <= year1 <= year2\n",
    "     */\n",
    "    public static int numberOfLeapYears(int year1, int year2){\n",
    "        int numLeapYears = 0;\n",
    "        for(int i = year1; i <= year2; i++){\n",
    "            if(isLeapYear(i)){\n",
    "                numLeapYears++;\n",
    "            }\n",
    "        }\n",
    "        return numLeapYears;\n",
    "    }\n",
    "    /** Returns the value representing the day of the week for the first day of year,\n",
    "     * where 0 denotes Sunday, 1 denotes Monday, ..., and 6 denotes Saturday.\n",
    "     */\n",
    "    private static int firstDayOfYear(int year)\n",
    "    { /* implementation not shown */ }\n",
    "    /** Returns n, where month, day, and year specify the nth day of the year.\n",
    "     * Returns 1 for January 1 (month = 1, day = 1) of any year.\n",
    "     * Precondition: The date represented by month, day, year is a valid date.\n",
    "     */\n",
    "    private static int dayOfYear(int month, int day, int year)\n",
    "    { /* implementation not shown */ }\n",
    "    /** Returns the value representing the day of the week for the given date\n",
    "     * (month, day, year), where 0 denotes Sunday, 1 denotes Monday, ...,\n",
    "     * and 6 denotes Saturday.\n",
    "     * Precondition: The date represented by month, day, year is a valid date.\n",
    "     */\n",
    "    public static int daysOfWeek(int month, int day, int year){\n",
    "        int firstDay = firstDayOfYear(year);\n",
    "        int nth = dayOfYear(month, day, year);\n",
    "        int returnDay = ((firstDay + nth) -1) % 7;\n",
    "        return returnDay;\n",
    "    }\n",
    "    // There may be instance variables, constructors, and other methods not shown.\n",
    "}"
   ]
  },
  {
   "cell_type": "markdown",
   "metadata": {},
   "source": [
    "### CONDITIONALS "
   ]
  },
  {
   "cell_type": "code",
   "execution_count": null,
   "metadata": {},
   "outputs": [
    {
     "name": "stdout",
     "output_type": "stream",
     "text": [
      "Input a: Input b: Input c: The equation has no real roots.\n"
     ]
    }
   ],
   "source": [
    "//2 \n",
    "\n",
    "import java.util.Scanner;\n",
    "public class Exercise2 {\n",
    "\n",
    "    \n",
    "  public static void main(String[] Strings) {\n",
    "\n",
    "        Scanner input = new Scanner(System.in);\n",
    "\n",
    "            System.out.print(\"Input a: \");\n",
    "            double a = input.nextDouble();\n",
    "            System.out.print(\"Input b: \");\n",
    "            double b = input.nextDouble();\n",
    "            System.out.print(\"Input c: \");\n",
    "            double c = input.nextDouble();\n",
    "\n",
    "            double result = b * b - 4.0 * a * c;\n",
    "\n",
    "            if (result > 0.0) {\n",
    "                double r1 = (-b + Math.pow(result, 0.5)) / (2.0 * a);\n",
    "                double r2 = (-b - Math.pow(result, 0.5)) / (2.0 * a);\n",
    "                System.out.println(\"The roots are \" + r1 + \" and \" + r2);\n",
    "            } else if (result == 0.0) {\n",
    "                double r1 = -b / (2.0 * a);\n",
    "                System.out.println(\"The root is \" + r1);\n",
    "            } else {\n",
    "                System.out.println(\"The equation has no real roots.\");\n",
    "            }\n",
    "\n",
    "    }\n",
    "}\n",
    "Exercise2.main(null);"
   ]
  },
  {
   "cell_type": "code",
   "execution_count": null,
   "metadata": {},
   "outputs": [
    {
     "name": "stdout",
     "output_type": "stream",
     "text": [
      "Input value: Positive number\n"
     ]
    }
   ],
   "source": [
    "//4\n",
    "\n",
    "import java.util.Scanner;\n",
    "public class Exercise4 {\n",
    "\n",
    "    \n",
    "  public static void main(String[] args)\n",
    "    {\n",
    "        Scanner in = new Scanner(System.in);\n",
    "        System.out.print(\"Input value: \");\n",
    "        double input = in.nextDouble();\n",
    "\n",
    "        if (input > 0)\n",
    "        {\n",
    "            if (input < 1)\n",
    "            {\n",
    "                System.out.println(\"Positive small number\");\n",
    "            }\n",
    "            else if (input > 1000000)\n",
    "            {\n",
    "                System.out.println(\"Positive large number\");\n",
    "            }\n",
    "            else\n",
    "            {\n",
    "                System.out.println(\"Positive number\");\n",
    "            }\n",
    "        }\n",
    "        else if (input < 0)\n",
    "        {\n",
    "            if (Math.abs(input) < 1)\n",
    "            {\n",
    "                System.out.println(\"Negative small number\");\n",
    "            }\n",
    "            else if (Math.abs(input) > 1000000)\n",
    "            {\n",
    "                System.out.println(\"Negative large number\");\n",
    "            }\n",
    "            else\n",
    "            {\n",
    "                System.out.println(\"Negative number\");\n",
    "            }\n",
    "        }\n",
    "        else\n",
    "        {\n",
    "            System.out.println(\"Zero\");\n",
    "        }\n",
    "    }\n",
    "}\n",
    "Exercise4.main(null);"
   ]
  },
  {
   "cell_type": "code",
   "execution_count": 7,
   "metadata": {},
   "outputs": [
    {
     "name": "stdout",
     "output_type": "stream",
     "text": [
      "Input floating-point number: Input floating-point another number: They are different\n"
     ]
    }
   ],
   "source": [
    "//6\n",
    "\n",
    "import java.util.Scanner;\n",
    "public class Exercise6 {\n",
    "\n",
    "    \n",
    "  public static void main(String[] args)\n",
    "    {\n",
    "        Scanner in = new Scanner(System.in);\n",
    "\n",
    "        System.out.print(\"Input floating-point number: \");\n",
    "        double x = in.nextDouble();\n",
    "        System.out.print(\"Input floating-point another number: \");\n",
    "        double y = in.nextDouble();\n",
    "\n",
    "        x = Math.round(x * 1000);\n",
    "        x = x / 1000;\n",
    "\n",
    "        y = Math.round(y * 1000);\n",
    "        y = y / 1000;\n",
    "\n",
    "        if (x == y)\n",
    "        {\n",
    "            System.out.println(\"They are the same up to three decimal places\");\n",
    "        }\n",
    "        else\n",
    "        {\n",
    "            System.out.println(\"They are different\");\n",
    "        }\n",
    "    }\n",
    "}\n",
    "Exercise6.main(null);"
   ]
  },
  {
   "cell_type": "code",
   "execution_count": 8,
   "metadata": {},
   "outputs": [
    {
     "name": "stdout",
     "output_type": "stream",
     "text": [
      "Input an alphabet: Input letter is Consonant\n"
     ]
    }
   ],
   "source": [
    "//8\n",
    "\n",
    "import java.util.Scanner;\n",
    "public class Exercise8 {\n",
    "\n",
    "    \n",
    "  public static void main(String[] args)\n",
    "    {\n",
    "        Scanner in = new Scanner(System.in);\n",
    "\n",
    "        System.out.print(\"Input an alphabet: \");\n",
    "        String input = in.next().toLowerCase();\n",
    "\n",
    "        boolean uppercase = input.charAt(0) >= 65 && input.charAt(0) <= 90;\n",
    "        boolean lowercase = input.charAt(0) >= 97 && input.charAt(0) <= 122;\n",
    "        boolean vowels = input.equals(\"a\") || input.equals(\"e\") || input.equals(\"i\")\n",
    "                || input.equals(\"o\") || input.equals(\"u\");\n",
    "\n",
    "        if (input.length() > 1)\n",
    "        {\n",
    "            System.out.println(\"Error. Not a single character.\");\n",
    "        }\n",
    "        else if (!(uppercase || lowercase))\n",
    "        {\n",
    "            System.out.println(\"Error. Not a letter. Enter uppercase or lowercase letter.\");\n",
    "        }\n",
    "        else if (vowels)\n",
    "        {\n",
    "            System.out.println(\"Input letter is Vowel\");\n",
    "        }\n",
    "        else\n",
    "        {\n",
    "            System.out.println(\"Input letter is Consonant\");\n",
    "        }\n",
    "    }\n",
    "}\n",
    "Exercise8.main(null);"
   ]
  },
  {
   "cell_type": "code",
   "execution_count": 9,
   "metadata": {},
   "outputs": [
    {
     "name": "stdout",
     "output_type": "stream",
     "text": [
      "The first 10 natural numbers are:\n",
      "\n",
      "1\n",
      "2\n",
      "3\n",
      "4\n",
      "5\n",
      "6\n",
      "7\n",
      "8\n",
      "9\n",
      "10\n",
      "\n",
      "\n"
     ]
    }
   ],
   "source": [
    "//10\n",
    "\n",
    "public class Exercise10 {\n",
    "    \n",
    "    public static void main(String[] args)\n",
    "      {     \n",
    "      int i;\n",
    "      System.out.println (\"The first 10 natural numbers are:\\n\");\n",
    "      for (i=1;i<=10;i++)\n",
    "      {      \n",
    "          System.out.println (i);\n",
    "      }\n",
    "  System.out.println (\"\\n\");\n",
    "  }\n",
    "  }\n",
    "Exercise10.main(null);"
   ]
  },
  {
   "cell_type": "code",
   "execution_count": 10,
   "metadata": {},
   "outputs": [
    {
     "name": "stdout",
     "output_type": "stream",
     "text": [
      "Input the 5 numbers : \n",
      "The sum of 5 no is : 66\n",
      "The Average is : 13.0\n"
     ]
    }
   ],
   "source": [
    "//12\n",
    "\n",
    "import java.util.Scanner;\n",
    "public class Exercise12 {\n",
    "\n",
    "    \n",
    "  public static void main(String[] args)\n",
    "\n",
    "{       \n",
    "    int i,n=0,s=0;\n",
    "\tdouble avg;\n",
    "\t{\n",
    "\t   \n",
    "        System.out.println(\"Input the 5 numbers : \");  \n",
    "         \n",
    "\t}\n",
    "\t\tfor (i=0;i<5;i++)\n",
    "\t\t{\n",
    "\t\t    Scanner in = new Scanner(System.in);\n",
    "\t\t    n = in.nextInt();\n",
    "\t\t    \n",
    "  \t\ts +=n;\n",
    "\t}\n",
    "\tavg=s/5;\n",
    "\tSystem.out.println(\"The sum of 5 no is : \" +s+\"\\nThe Average is : \" +avg);\n",
    " \n",
    "}\n",
    "}\n",
    "Exercise12.main(null);"
   ]
  },
  {
   "cell_type": "code",
   "execution_count": 11,
   "metadata": {},
   "outputs": [
    {
     "name": "stdout",
     "output_type": "stream",
     "text": [
      "Input the number(Table to be calculated): Input number of terms : \n",
      "\n",
      "35 X 0 = 0\n",
      "35 X 1 = 35\n",
      "35 X 2 = 70\n",
      "35 X 3 = 105\n",
      "35 X 4 = 140\n",
      "35 X 5 = 175\n",
      "35 X 6 = 210\n",
      "35 X 7 = 245\n",
      "35 X 8 = 280\n",
      "35 X 9 = 315\n",
      "35 X 10 = 350\n",
      "35 X 11 = 385\n",
      "35 X 12 = 420\n",
      "35 X 13 = 455\n",
      "35 X 14 = 490\n",
      "35 X 15 = 525\n",
      "35 X 16 = 560\n",
      "35 X 17 = 595\n",
      "35 X 18 = 630\n",
      "35 X 19 = 665\n",
      "35 X 20 = 700\n",
      "35 X 21 = 735\n",
      "35 X 22 = 770\n",
      "35 X 23 = 805\n",
      "35 X 24 = 840\n",
      "35 X 25 = 875\n",
      "35 X 26 = 910\n",
      "35 X 27 = 945\n",
      "35 X 28 = 980\n",
      "35 X 29 = 1015\n",
      "35 X 30 = 1050\n",
      "35 X 31 = 1085\n",
      "35 X 32 = 1120\n",
      "35 X 33 = 1155\n",
      "35 X 34 = 1190\n",
      "35 X 35 = 1225\n"
     ]
    }
   ],
   "source": [
    "//14\n",
    "\n",
    "import java.util.Scanner;\n",
    "public class Exercise14 {\n",
    "\n",
    "   public static void main(String[] args)\n",
    "\n",
    "{\n",
    "   int j,n;\n",
    "\n",
    "   System.out.print(\"Input the number(Table to be calculated): \");\n",
    "{\n",
    "   System.out.print(\"Input number of terms : \");\n",
    "    Scanner in = new Scanner(System.in);\n",
    "\t\t    n = in.nextInt();\n",
    "\n",
    "   System.out.println (\"\\n\");\n",
    "   for(j=0;j<=n;j++)\n",
    "  \n",
    "     System.out.println(n+\" X \"+j+\" = \" +n*j);\n",
    "   }\n",
    "}\n",
    "}\n",
    "Exercise14.main(null);"
   ]
  },
  {
   "cell_type": "code",
   "execution_count": 12,
   "metadata": {},
   "outputs": [
    {
     "name": "stdout",
     "output_type": "stream",
     "text": [
      "Input number of rows : 1\n",
      "12\n"
     ]
    }
   ],
   "source": [
    "//16\n",
    "\n",
    "import java.util.Scanner;\n",
    "public class Exercise16 {\n",
    "\n",
    "   public static void main(String[] args)\n",
    "\n",
    "{\n",
    "   int i,j,n;\n",
    "   System.out.print(\"Input number of rows : \");\n",
    " Scanner in = new Scanner(System.in);\n",
    "\t\t    n = in.nextInt();\n",
    "\n",
    "   for(i=1;i<=n;i++)\n",
    "   {\n",
    "\tfor(j=1;j<=i;j++)\n",
    "\t  System.out.print(j);\n",
    "\n",
    "    System.out.println(\"\");\n",
    "    }\n",
    "}\n",
    "}\n",
    "Exercise16.main(null);"
   ]
  },
  {
   "cell_type": "code",
   "execution_count": 13,
   "metadata": {},
   "outputs": [
    {
     "name": "stdout",
     "output_type": "stream",
     "text": [
      "Input number of rows : 1\n",
      "23\n",
      "456\n",
      "78910\n",
      "1112131415\n",
      "161718192021\n"
     ]
    }
   ],
   "source": [
    "//18\n",
    "\n",
    "import java.util.Scanner;\n",
    "public class Exercise18 {\n",
    "\n",
    "  public static void main(String[] args)\n",
    "\n",
    "{\n",
    "   \t\tint i,j,n,k=1;\n",
    "\n",
    "   \t\tSystem.out.print(\"Input number of rows : \");\n",
    "\n",
    "   \t\tScanner in = new Scanner(System.in);\n",
    "\t\t    n = in.nextInt();\n",
    "\n",
    "   \t\tfor(i=1;i<=n;i++)\n",
    "   \t\t{\n",
    "\t\tfor(j=1;j<=i;j++)\n",
    "\t   \tSystem.out.print(k++);\n",
    "\t   \tSystem.out.println(\"\");\n",
    "\t   \t}  \t\t\n",
    "\t}\n",
    "\t}\n",
    "\tExercise18.main(null);"
   ]
  },
  {
   "cell_type": "code",
   "execution_count": 14,
   "metadata": {},
   "outputs": [
    {
     "name": "stdout",
     "output_type": "stream",
     "text": [
      "Input number of rows : 1 \n",
      "2 3 \n",
      "4 5 6 \n",
      "7 8 9 10 \n"
     ]
    }
   ],
   "source": [
    "//20\n",
    "\n",
    "import java.util.Scanner;\n",
    "public class Exercise20 {\n",
    "public static void main(String[] args)\n",
    " {\n",
    "   int numberOfRows;\n",
    "   System.out.print(\"Input number of rows : \");\n",
    "   Scanner in = new Scanner(System.in);\n",
    "\t\t    numberOfRows = in.nextInt();\n",
    "   int number = 1;\n",
    "   for (int row = 1; row <= numberOfRows; row++)\n",
    "    {\n",
    "   for (int column = 1; column <= row; column++)\n",
    "     {\n",
    "       System.out.print(number + \" \");\n",
    "       number++;\n",
    "     }\n",
    "     System.out.println();\n",
    "    }\n",
    "  }\n",
    "}\n",
    "\n",
    "Exercise20.main(null);"
   ]
  }
 ],
 "metadata": {
  "kernelspec": {
   "display_name": "Java",
   "language": "java",
   "name": "java"
  },
  "language_info": {
   "codemirror_mode": "java",
   "file_extension": ".jshell",
   "mimetype": "text/x-java-source",
   "name": "java",
   "pygments_lexer": "java",
   "version": "11.0.16+8-post-Ubuntu-0ubuntu120.04"
  },
  "orig_nbformat": 4,
  "vscode": {
   "interpreter": {
    "hash": "6ef0e01c7b70a41bffb23df0700e32d35958c8f3167b69c3a7c24cc73cf6bbbd"
   }
  }
 },
 "nbformat": 4,
 "nbformat_minor": 2
}
