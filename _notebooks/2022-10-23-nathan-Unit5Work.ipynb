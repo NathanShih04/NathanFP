{
 "cells": [
  {
   "cell_type": "markdown",
   "metadata": {},
   "source": [
    "# Lesson 5 Work\n",
    "> Q2 Solution 2019 FRQ Q2 Nathan and Sahil"
   ]
  },
  {
   "cell_type": "markdown",
   "metadata": {},
   "source": [
    "### Learnings\n",
    "\n",
    "- An object's state are attritbutes of an object and their values at a given time.\n",
    "- Static variables and methods belong to a class, not an object.\n",
    "- Public classes have no restricted access - has constructors\n",
    "- Private classes have restricted access - instance variables\n",
    "- Non void methods return a single value"
   ]
  },
  {
   "cell_type": "markdown",
   "metadata": {},
   "source": [
    "ALL VOCAB SHOWN IN CODE BELOW\n",
    "#### Creating a class, describe naming conventions\n",
    "- Created using class keyword\n",
    "- Should be defined using camelcase (first letter lower all first letters upper)\n",
    "\n",
    "#### Main Method\n",
    "- Used to test a class\n",
    "- Called when class is run\n",
    "- Creates an object and test methods usually\n",
    "\n",
    "#### This keyword\n",
    "- Used to access properties of the class\n",
    "- Constructor shows\n",
    "\n",
    "#### Constructor\n",
    "- Called whenever object is created\n",
    "- Usually initialized fields\n",
    "- Doesn't return anything \n",
    "\n",
    "#### Accessor/Getter methods\n",
    "- Used to get properties of an object outside of the class def.\n",
    "- Getters can be applied on onlhy the properties which should be accessed outside the class\n",
    "\n",
    "#### Mutator/Setter Methods\n",
    "- Allow properties to be modified outside of the class definition\n",
    "- Have a \"void\" return type\n",
    "- Only set values\n",
    "\n",
    "#### Access modifiers\n",
    "- Control whether properties and methods can be accessed outside the class\n",
    "- Public, private"
   ]
  },
  {
   "cell_type": "code",
   "execution_count": 2,
   "metadata": {},
   "outputs": [
    {
     "name": "stdout",
     "output_type": "stream",
     "text": [
      "1\n",
      "10\n"
     ]
    }
   ],
   "source": [
    "class MyClass {\n",
    "  int prop1;\n",
    "  int prop2;\n",
    "\n",
    "  // Constructor here\n",
    "  public MyClass (int prop1input, int prop2input) {\n",
    "    // setting properties using this to reference prop1 & prop2 of the object\n",
    "    this.prop1 = prop1input;\n",
    "    this.prop2 = prop2input;\n",
    "  }\n",
    "\n",
    "  // getter allows outside class to access prop1\n",
    "  public int getProp1() {\n",
    "    return this.prop1;\n",
    "  }\n",
    "\n",
    "  // setter allows outside class to set prop1\n",
    "  public void setProp1 (int propVal) {\n",
    "    this.prop1 = propVal;\n",
    "  }\n",
    "\n",
    "  public static void main (String[] args) {\n",
    "    MyClass obj = new MyClass(1, 2);\n",
    "\n",
    "    // using getter to access prop1\n",
    "    System.out.println(obj.getProp1());\n",
    "\n",
    "    // changing value of prop1\n",
    "    obj.setProp1(10);\n",
    "\n",
    "    // using getter to access new value of prop1\n",
    "    System.out.println(obj.getProp1());\n",
    "  }\n",
    "}\n",
    "\n",
    "MyClass.main(null);"
   ]
  },
  {
   "cell_type": "markdown",
   "metadata": {},
   "source": [
    "#### Static methods/properties\n",
    "- Do not require an object, only have one instance that is same for all objects"
   ]
  },
  {
   "cell_type": "code",
   "execution_count": 3,
   "metadata": {},
   "outputs": [
    {
     "name": "stdout",
     "output_type": "stream",
     "text": [
      "test TURTLES\n",
      "10\n"
     ]
    }
   ],
   "source": [
    "class MyClass {\n",
    "    // static method\n",
    "    static String turtle (String a) {\n",
    "      return a + \" TURTLES\";\n",
    "    }\n",
    "  \n",
    "    // static property\n",
    "    static int staticProp = 10;\n",
    "  \n",
    "    public static void main(String[] args) {\n",
    "      // no object needed for any of this\n",
    "      System.out.println(MyClass.turtle(\"test\"));\n",
    "      System.out.println(MyClass.staticProp);\n",
    "    }\n",
    "  }\n",
    "  \n",
    "  MyClass.main(null);"
   ]
  },
  {
   "cell_type": "code",
   "execution_count": 4,
   "metadata": {},
   "outputs": [
    {
     "name": "stdout",
     "output_type": "stream",
     "text": [
      "0\n",
      "0.0\n",
      "9000.0\n",
      "1\n"
     ]
    }
   ],
   "source": [
    "// FRQ Q2 2019\n",
    "\n",
    "public class StepTracker {\n",
    "    private int lowerBound;\n",
    "    private int steps;\n",
    "    private int totalDays;\n",
    "    private int activeDays;\n",
    "\n",
    "    public StepTracker(int minSteps) {\n",
    "        lowerBound = minSteps;\n",
    "        steps = 0;\n",
    "        totalDays = 0;\n",
    "        activeDays = 0;\n",
    "    }\n",
    "\n",
    "    public void addDailySteps(int newSteps) {\n",
    "        steps += newSteps;\n",
    "        totalDays += 1;\n",
    "        if (newSteps >= lowerBound) {\n",
    "            activeDays += 1;\n",
    "        }\n",
    "    }\n",
    "\n",
    "    public int activeDays(){\n",
    "        return activeDays;\n",
    "    }\n",
    "\n",
    "    public double averageSteps() {\n",
    "        if (totalDays == 0) {\n",
    "            return (double) totalDays;\n",
    "        }\n",
    "        else {\n",
    "            return (double) steps / totalDays;\n",
    "        }\n",
    "    }\n",
    "\n",
    "    public static void main(String[] args){\n",
    "\n",
    "        StepTracker tr = new StepTracker(10000);\n",
    "        System.out.println(tr.activeDays());\n",
    "        System.out.println(tr.averageSteps());\n",
    "        tr.addDailySteps(9000);\n",
    "        System.out.println(tr.averageSteps());\n",
    "        tr.addDailySteps(23000);\n",
    "        System.out.println(tr.activeDays());\n",
    "    }\n",
    "}\n",
    "StepTracker.main(null);"
   ]
  }
 ],
 "metadata": {
  "kernelspec": {
   "display_name": "Java",
   "language": "java",
   "name": "java"
  },
  "language_info": {
   "codemirror_mode": "java",
   "file_extension": ".jshell",
   "mimetype": "text/x-java-source",
   "name": "java",
   "pygments_lexer": "java",
   "version": "17.0.5+8-Ubuntu-2ubuntu120.04"
  },
  "orig_nbformat": 4
 },
 "nbformat": 4,
 "nbformat_minor": 2
}
