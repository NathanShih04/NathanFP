{
 "cells": [
  {
   "cell_type": "code",
   "execution_count": 6,
   "metadata": {
    "vscode": {
     "languageId": "java"
    }
   },
   "outputs": [
    {
     "name": "stdout",
     "output_type": "stream",
     "text": [
      "ID for book1: 79, All about turtles\n",
      "ID for book2: 49, All about birds\n",
      "4\n"
     ]
    }
   ],
   "source": [
    "import java.util.Random;\n",
    "\n",
    "public class Book {\n",
    "\n",
    "    public String title; \n",
    "    public static int bookCount;\n",
    "    private final Date createDate;\n",
    "\n",
    "    public Book(String title){\n",
    "        this.title = title;\n",
    "        this.createDate = new Date();\n",
    "    }\n",
    "\n",
    "    public int generateID(){\n",
    "        Random rand = new Random();\n",
    "        int Id = rand.nextInt(100);\n",
    "        bookCount++;\n",
    "        return Id;\n",
    "    }\n",
    "\n",
    "    public int getBookCount(){\n",
    "        return bookCount;\n",
    "    }\n",
    "\n",
    "    public String toString(){\n",
    "        return(title);\n",
    "    }\n",
    "\n",
    "    public Long shelfLife(){\n",
    "        Date currentDate = new Date();\n",
    "        long difference = Math.abs(this.createDate.getTime() - currentDate.getTime());\n",
    "        return(difference);\n",
    "    }\n",
    "\n",
    "    public static void tester(){\n",
    "        Book book1 = new Book(\"All about turtles\");\n",
    "        Book book2 = new Book(\"All about birds\");\n",
    "        System.out.println(\"ID for book1: \" + book1.generateID() + \", \" + book1.toString());\n",
    "        System.out.println(\"ID for book2: \" + book2.generateID() + \", \" + book2.toString());\n",
    "        System.out.println(bookCount);\n",
    "\n",
    "    }\n",
    "\n",
    "    public static void main(String[] args){\n",
    "\n",
    "        tester();\n",
    "    }\n",
    "}\n",
    "\n",
    "Book.main(null);"
   ]
  },
  {
   "cell_type": "code",
   "execution_count": 17,
   "metadata": {
    "vscode": {
     "languageId": "java"
    }
   },
   "outputs": [
    {
     "name": "stdout",
     "output_type": "stream",
     "text": [
      "Hetvi\n",
      "J.K. Rowling\n",
      "1002\n",
      "1003\n"
     ]
    }
   ],
   "source": [
    "public class Novel extends Book {\n",
    "    public String author;\n",
    "\n",
    "    public Novel(String title){\n",
    "        super(title);\n",
    "    }\n",
    "\n",
    "    public String getAuthor() {\n",
    "        return author;\n",
    "    }\n",
    "\n",
    "    public void setAuthor(String newAuthor) {\n",
    "        this.author = newAuthor;\n",
    "    }\n",
    "\n",
    "\n",
    "    public static void main(String[] args){\n",
    "        try{\n",
    "            Novel novel1 = new Novel(\"Angels and Demons\");\n",
    "            Novel novel2 = new Novel(\"Harry Potter\");\n",
    "            novel1.setAuthor(\"Hetvi\");\n",
    "            novel2.setAuthor(\"J.K. Rowling\");\n",
    "\n",
    "            Thread.sleep(1000);\n",
    "\n",
    "            System.out.println(novel1.getAuthor());\n",
    "            System.out.println(novel2.getAuthor());\n",
    "            System.out.println(novel1.shelfLife());\n",
    "            System.out.println(novel2.shelfLife());\n",
    "        }\n",
    "\n",
    "        catch (Exception e){\n",
    "            System.out.println(e);\n",
    "        }\n",
    "    }\n",
    "}\n",
    "Novel.main(null);\n"
   ]
  },
  {
   "cell_type": "code",
   "execution_count": 16,
   "metadata": {
    "vscode": {
     "languageId": "java"
    }
   },
   "outputs": [
    {
     "name": "stdout",
     "output_type": "stream",
     "text": [
      "Nathan Shih\n",
      "J.K. Rowling\n",
      "1002\n",
      "1002\n"
     ]
    }
   ],
   "source": [
    "public class Textbook extends Book {\n",
    "    public String author;\n",
    "\n",
    "    public Textbook(String title){\n",
    "        super(title);\n",
    "    }\n",
    "\n",
    "    public String getAuthor() {\n",
    "        return author;\n",
    "    }\n",
    "\n",
    "    public void setAuthor(String newAuthor) {\n",
    "        this.author = newAuthor;\n",
    "    }\n",
    "\n",
    "\n",
    "    public static void main(String[] args){\n",
    "        try{\n",
    "            Textbook textbook1 = new Textbook(\"Turtles are the Best\");\n",
    "            Textbook textbook2 = new Textbook(\"How to Write Harry Potter\");\n",
    "            textbook1.setAuthor(\"Nathan Shih\");\n",
    "            textbook2.setAuthor(\"J.K. Rowling\");\n",
    "\n",
    "            Thread.sleep(1000);\n",
    "\n",
    "            System.out.println(textbook1.getAuthor());\n",
    "            System.out.println(textbook2.getAuthor());\n",
    "            System.out.println(textbook1.shelfLife());\n",
    "            System.out.println(textbook2.shelfLife());\n",
    "        }\n",
    "\n",
    "        catch (Exception e){\n",
    "            System.out.println(e);\n",
    "        }\n",
    "    }\n",
    "}\n",
    "Textbook.main(null);"
   ]
  }
 ],
 "metadata": {
  "kernelspec": {
   "display_name": "Java",
   "language": "java",
   "name": "java"
  },
  "language_info": {
   "codemirror_mode": "java",
   "file_extension": ".jshell",
   "mimetype": "text/x-java-source",
   "name": "Java",
   "pygments_lexer": "java",
   "version": "17.0.5+8-Ubuntu-2ubuntu120.04"
  },
  "orig_nbformat": 4
 },
 "nbformat": 4,
 "nbformat_minor": 2
}
