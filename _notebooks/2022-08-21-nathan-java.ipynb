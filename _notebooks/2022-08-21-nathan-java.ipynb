{
 "cells": [
  {
   "cell_type": "markdown",
   "metadata": {},
   "source": [
    "# Java Coin Flip"
   ]
  },
  {
   "cell_type": "code",
   "execution_count": 24,
   "metadata": {},
   "outputs": [],
   "source": [
    "import java.util.Random;\n",
    "int flipCount = 10;"
   ]
  },
  {
   "cell_type": "code",
   "execution_count": 25,
   "metadata": {},
   "outputs": [],
   "source": [
    "Random rando = new Random();\n",
    "\n",
    "public void coinFlip(int count){\n",
    "    for(int i = 0; i < count; i++){\n",
    "        int side = rando.nextInt(2);\n",
    "        if(side == 1){\n",
    "            System.out.println(\"Heads\");\n",
    "        }\n",
    "        else{\n",
    "            System.out.println(\"Tails\");\n",
    "        }\n",
    "    }\n",
    "}"
   ]
  },
  {
   "cell_type": "code",
   "execution_count": 26,
   "metadata": {},
   "outputs": [
    {
     "name": "stdout",
     "output_type": "stream",
     "text": [
      "Tails\n",
      "Heads\n",
      "Tails\n",
      "Heads\n",
      "Heads\n",
      "Tails\n",
      "Tails\n",
      "Tails\n",
      "Heads\n",
      "Tails\n"
     ]
    }
   ],
   "source": [
    "coinFlip(flipCount);"
   ]
  }
 ],
 "metadata": {
  "kernelspec": {
   "display_name": "Java",
   "language": "java",
   "name": "java"
  },
  "language_info": {
   "codemirror_mode": "java",
   "file_extension": ".jshell",
   "mimetype": "text/x-java-source",
   "name": "java",
   "pygments_lexer": "java",
   "version": "11.0.16+8-post-Ubuntu-0ubuntu120.04"
  },
  "orig_nbformat": 4,
  "vscode": {
   "interpreter": {
    "hash": "3abf47a24862e01fbfe2918e882b3361a495891636c96eb778692f783ac2d3bc"
   }
  }
 },
 "nbformat": 4,
 "nbformat_minor": 2
}
