{
 "cells": [
  {
   "cell_type": "markdown",
   "metadata": {},
   "source": [
    "# Java Primitive Guesser Game"
   ]
  },
  {
   "cell_type": "code",
   "execution_count": 1,
   "metadata": {
    "vscode": {
     "languageId": "java"
    }
   },
   "outputs": [],
   "source": [
    "import java.util.Scanner;\n",
    "import java.util.Random;\n",
    "boolean check = false;\n",
    "Random rand = new Random();\n",
    "// Random Number to 100\n",
    "int answer = rand.nextInt(100);"
   ]
  },
  {
   "cell_type": "code",
   "execution_count": 2,
   "metadata": {
    "vscode": {
     "languageId": "java"
    }
   },
   "outputs": [],
   "source": [
    "// Function that checks whether or not the guess was correct\n",
    "public boolean checker(int guess, int ans){\n",
    "    if(guess == ans){\n",
    "        check = true;\n",
    "    }\n",
    "    return check;\n",
    "}"
   ]
  },
  {
   "cell_type": "code",
   "execution_count": 3,
   "metadata": {
    "vscode": {
     "languageId": "java"
    }
   },
   "outputs": [
    {
     "name": "stdout",
     "output_type": "stream",
     "text": [
      "Input your guess: \n",
      "Wrong, guess higher silly goose!\n",
      "Input your guess again: \n",
      "Wrong, guess lower silly goose!\n",
      "Input your guess again: \n",
      "Wrong, guess higher silly goose!\n",
      "Input your guess again: \n",
      "Wrong, guess lower silly goose!\n",
      "Input your guess again: \n",
      "Wrong, guess lower silly goose!\n",
      "Input your guess again: \n",
      "Wrong, guess higher silly goose!\n",
      "Input your guess again: \n",
      "Wrong, guess higher silly goose!\n",
      "Input your guess again: \n",
      "You got it right! The answer was: 49\n"
     ]
    }
   ],
   "source": [
    "Scanner scan = new Scanner(System.in);\n",
    "System.out.println(\"Input your guess: \");\n",
    "int inp = Integer.parseInt(scan.nextLine());\n",
    "boolean output = checker(inp, answer);\n",
    "\n",
    "while(output == false){\n",
    "    if(inp < answer){\n",
    "        System.out.println(\"Wrong, guess higher silly goose!\");\n",
    "    }\n",
    "    if(inp > answer){\n",
    "        System.out.println(\"Wrong, guess lower silly goose!\");\n",
    "    }\n",
    "    Scanner scan = new Scanner(System.in);\n",
    "    System.out.println(\"Input your guess again: \");\n",
    "    inp = Integer.parseInt(scan.nextLine());\n",
    "    output = checker(inp, answer);\n",
    "}\n",
    "\n",
    "System.out.println(\"You got it right! The answer was: \" + answer);"
   ]
  }
 ],
 "metadata": {
  "kernelspec": {
   "display_name": "Java",
   "language": "java",
   "name": "java"
  },
  "language_info": {
   "codemirror_mode": "java",
   "file_extension": ".jshell",
   "mimetype": "text/x-java-source",
   "name": "Java",
   "pygments_lexer": "java",
   "version": "11.0.16+8-post-Ubuntu-0ubuntu120.04"
  },
  "orig_nbformat": 4,
  "vscode": {
   "interpreter": {
    "hash": "3abf47a24862e01fbfe2918e882b3361a495891636c96eb778692f783ac2d3bc"
   }
  }
 },
 "nbformat": 4,
 "nbformat_minor": 2
}
