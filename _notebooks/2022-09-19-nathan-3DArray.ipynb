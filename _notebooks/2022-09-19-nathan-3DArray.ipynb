{
 "cells": [
  {
   "cell_type": "markdown",
   "metadata": {},
   "source": [
    "# 3D Arrays (FRQ 1 Week Extra)\n",
    "> Extra code for three dimensional array"
   ]
  },
  {
   "cell_type": "code",
   "execution_count": 15,
   "metadata": {
    "vscode": {
     "languageId": "java"
    }
   },
   "outputs": [
    {
     "name": "stdout",
     "output_type": "stream",
     "text": [
      "Student Number 1\n",
      "Exam Number 1\n",
      "Grades are:\n",
      "33\t66\t\n",
      "Exam Number 2\n",
      "Grades are:\n",
      "55\t99\t\n",
      "\n",
      "Student Number 2\n",
      "Exam Number 1\n",
      "Grades are:\n",
      "56\t93\t\n",
      "Exam Number 2\n",
      "Grades are:\n",
      "89\t78\t\n",
      "\n",
      "Student Number 3\n",
      "Exam Number 1\n",
      "Grades are:\n",
      "83\t96\t\n",
      "Exam Number 2\n",
      "Grades are:\n",
      "73\t74\t\n",
      "\n"
     ]
    }
   ],
   "source": [
    "public class threeDimensional{\n",
    "    public static void main (String[] args){\n",
    "        int [][][] grades = {\n",
    "            { {33, 66}, {55, 99} },\n",
    "            { {56, 93}, {89, 78} },\n",
    "            { {83, 96}, {73, 74} }\n",
    "\n",
    "        };\n",
    "        \n",
    "        for(int student = 0; student < grades.length; student++){\n",
    "            System.out.println(\"Student Number \" + (student + 1));\n",
    "            for(int exam = 0; exam < grades[student].length; exam++){\n",
    "                System.out.println(\"Exam Number \" + (exam + 1));\n",
    "                System.out.println(\"Grades are:\");\n",
    "                for(int marks = 0; marks < grades[student][exam].length; marks++){\n",
    "                    System.out.print(grades[student][exam][marks] + \"\\t\");\n",
    "                }\n",
    "                System.out.println();\n",
    "            }\n",
    "            System.out.println();\n",
    "        }\n",
    "\n",
    "        \n",
    "\n",
    "    }\n",
    "}\n",
    "threeDimensional.main(null);"
   ]
  }
 ],
 "metadata": {
  "kernelspec": {
   "display_name": "Java",
   "language": "java",
   "name": "java"
  },
  "language_info": {
   "codemirror_mode": "java",
   "file_extension": ".jshell",
   "mimetype": "text/x-java-source",
   "name": "Java",
   "pygments_lexer": "java",
   "version": "11.0.16+8-post-Ubuntu-0ubuntu120.04"
  },
  "orig_nbformat": 4,
  "vscode": {
   "interpreter": {
    "hash": "916dbcbb3f70747c44a77c7bcd40155683ae19c65e1c03b4aa3499c5328201f1"
   }
  }
 },
 "nbformat": 4,
 "nbformat_minor": 2
}
